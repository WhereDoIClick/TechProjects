{
 "cells": [
  {
   "cell_type": "markdown",
   "id": "ab27932e",
   "metadata": {},
   "source": [
    "# Exercise - Get the rock sample data into Visual Studio Code"
   ]
  },
  {
   "cell_type": "code",
   "execution_count": 100,
   "id": "ec64f8cf-f708-4b06-8945-5176bd7d00a2",
   "metadata": {},
   "outputs": [],
   "source": [
    "# Import PySpark\n",
    "from pyspark.sql import SparkSession"
   ]
  },
  {
   "cell_type": "code",
   "execution_count": 101,
   "id": "d0fbabe2-632e-4b9e-81cc-41c07802875a",
   "metadata": {},
   "outputs": [],
   "source": [
    "#Create SparkSession\n",
    "spark = SparkSession.builder.appName('SparkByExamples.com').getOrCreate()"
   ]
  },
  {
   "cell_type": "code",
   "execution_count": 102,
   "id": "c7a95b8d",
   "metadata": {},
   "outputs": [],
   "source": [
    "#Get data file\n",
    "\n",
    "df = spark.read.options(inferSchema='True', header= 'True').csv(\"data/rocksamples.csv\")"
   ]
  },
  {
   "cell_type": "code",
   "execution_count": 103,
   "id": "c574285b",
   "metadata": {},
   "outputs": [
    {
     "data": {
      "text/plain": [
       "'Schema:'"
      ]
     },
     "metadata": {},
     "output_type": "display_data"
    },
    {
     "data": {
      "text/plain": [
       "<bound method DataFrame.printSchema of DataFrame[ID: int, Mission: string, Type: string, Subtype: string, Weight (g): double, Pristine (%): double]>"
      ]
     },
     "execution_count": 103,
     "metadata": {},
     "output_type": "execute_result"
    }
   ],
   "source": [
    "display(\"Schema:\")\n",
    "\n",
    "df.printSchema"
   ]
  },
  {
   "cell_type": "code",
   "execution_count": 104,
   "id": "fd75af68-3869-429c-80e8-b759ec21b479",
   "metadata": {},
   "outputs": [
    {
     "name": "stdout",
     "output_type": "stream",
     "text": [
      "+-----+--------+-------+--------+----------+------------+\n",
      "|   ID| Mission|   Type| Subtype|Weight (g)|Pristine (%)|\n",
      "+-----+--------+-------+--------+----------+------------+\n",
      "|10001|Apollo11|   Soil|Unsieved|     125.8|       88.36|\n",
      "|10002|Apollo11|   Soil|Unsieved|    5629.0|       93.73|\n",
      "|10003|Apollo11| Basalt|Ilmenite|     213.0|       65.56|\n",
      "|10004|Apollo11|   Core|Unsieved|      44.8|       71.76|\n",
      "|10005|Apollo11|   Core|Unsieved|      53.4|       40.31|\n",
      "|10008|Apollo11|   Soil|Unsieved|      89.0|        5.75|\n",
      "|10009|Apollo11|Breccia|Regolith|     112.0|       97.27|\n",
      "|10010|Apollo11|   Soil|Unsieved|     491.0|       91.03|\n",
      "|10011|Apollo11|   Soil|Unsieved|      82.6|       62.01|\n",
      "|10014|Apollo11|   Soil|Unsieved|      50.0|         0.0|\n",
      "+-----+--------+-------+--------+----------+------------+\n",
      "only showing top 10 rows\n",
      "\n"
     ]
    }
   ],
   "source": [
    "# Print DataFrame\n",
    "df.show(10)"
   ]
  },
  {
   "cell_type": "markdown",
   "id": "65667ea9",
   "metadata": {},
   "source": [
    "# Exercise - Determine the question to ask to inform data cleansing"
   ]
  },
  {
   "cell_type": "code",
   "execution_count": 105,
   "id": "5e269f56",
   "metadata": {},
   "outputs": [],
   "source": [
    "from pyspark.sql.window import Window\n",
    "from pyspark.sql.functions import col,lag\n"
   ]
  },
  {
   "cell_type": "code",
   "execution_count": 106,
   "id": "dd9929b4",
   "metadata": {},
   "outputs": [
    {
     "data": {
      "text/plain": [
       "[Row(ID=10001, Mission='Apollo11', Type='Soil', Subtype='Unsieved', Weight(g)=125.8, Pristine (%)=88.36, Weight(kg)=0.1258),\n",
       " Row(ID=10002, Mission='Apollo11', Type='Soil', Subtype='Unsieved', Weight(g)=5629.0, Pristine (%)=93.73, Weight(kg)=5.6290000000000004),\n",
       " Row(ID=10003, Mission='Apollo11', Type='Basalt', Subtype='Ilmenite', Weight(g)=213.0, Pristine (%)=65.56, Weight(kg)=0.213),\n",
       " Row(ID=10004, Mission='Apollo11', Type='Core', Subtype='Unsieved', Weight(g)=44.8, Pristine (%)=71.76, Weight(kg)=0.0448),\n",
       " Row(ID=10005, Mission='Apollo11', Type='Core', Subtype='Unsieved', Weight(g)=53.4, Pristine (%)=40.31, Weight(kg)=0.0534),\n",
       " Row(ID=10008, Mission='Apollo11', Type='Soil', Subtype='Unsieved', Weight(g)=89.0, Pristine (%)=5.75, Weight(kg)=0.089),\n",
       " Row(ID=10009, Mission='Apollo11', Type='Breccia', Subtype='Regolith', Weight(g)=112.0, Pristine (%)=97.27, Weight(kg)=0.112),\n",
       " Row(ID=10010, Mission='Apollo11', Type='Soil', Subtype='Unsieved', Weight(g)=491.0, Pristine (%)=91.03, Weight(kg)=0.491),\n",
       " Row(ID=10011, Mission='Apollo11', Type='Soil', Subtype='Unsieved', Weight(g)=82.6, Pristine (%)=62.01, Weight(kg)=0.08259999999999999),\n",
       " Row(ID=10014, Mission='Apollo11', Type='Soil', Subtype='Unsieved', Weight(g)=50.0, Pristine (%)=0.0, Weight(kg)=0.05)]"
      ]
     },
     "execution_count": 106,
     "metadata": {},
     "output_type": "execute_result"
    }
   ],
   "source": [
    "# Convert the sample weight\n",
    "\n",
    "\n",
    "# Rename Column to remove space\n",
    "df = df.withColumnRenamed(\"Weight (g)\",\"Weight(g)\")\n",
    "\n",
    "df = df.withColumn(\"Weight(kg)\", col(\"Weight(g)\") * 0.001)\n",
    "\n",
    "\n",
    "df.head(10)"
   ]
  },
  {
   "cell_type": "code",
   "execution_count": 107,
   "id": "eaa566d9",
   "metadata": {},
   "outputs": [
    {
     "data": {
      "text/plain": [
       "[Row(Mission='Apollo15'),\n",
       " Row(Mission='Apollo11'),\n",
       " Row(Mission='Apollo14'),\n",
       " Row(Mission='Apollo12'),\n",
       " Row(Mission='Apollo17'),\n",
       " Row(Mission='Apollo16')]"
      ]
     },
     "execution_count": 107,
     "metadata": {},
     "output_type": "execute_result"
    }
   ],
   "source": [
    "# Create a new DataFrame called missions that will be a summary of data for each of the six Apollo missions that brought samples back. \n",
    "# Create a column in this DataFrame called Mission that has one row for each mission.\n",
    "\n",
    "missions = df.dropDuplicates([\"Mission\"]).select(\"Mission\")\n",
    "missions.head(10)\n"
   ]
  },
  {
   "cell_type": "code",
   "execution_count": 108,
   "id": "cf1e5a84",
   "metadata": {},
   "outputs": [
    {
     "data": {
      "text/plain": [
       "pyspark.sql.dataframe.DataFrame"
      ]
     },
     "execution_count": 108,
     "metadata": {},
     "output_type": "execute_result"
    }
   ],
   "source": [
    "#missions.toPandas().info()\n",
    "\n",
    "type(missions)"
   ]
  },
  {
   "cell_type": "code",
   "execution_count": 109,
   "id": "a5156038",
   "metadata": {},
   "outputs": [
    {
     "name": "stdout",
     "output_type": "stream",
     "text": [
      "+--------+------------------+\n",
      "| Mission| Sample_weight(kg)|\n",
      "+--------+------------------+\n",
      "|Apollo11|          21.55424|\n",
      "|Apollo12|          34.34238|\n",
      "|Apollo14|          41.83363|\n",
      "|Apollo15| 75.39910000000005|\n",
      "|Apollo16| 92.46262000000006|\n",
      "|Apollo17|109.44402000000001|\n",
      "+--------+------------------+\n",
      "\n"
     ]
    }
   ],
   "source": [
    "# Sum total sample weight by mission\n",
    "\n",
    "sample_total_weight = df.groupby('Mission').sum('Weight(kg)')\n",
    "\n",
    "\n",
    "# Using Join expression and remove duplicate columns\n",
    "missions = missions.join(sample_total_weight,missions[\"Mission\"] == sample_total_weight[\"Mission\"]) \\\n",
    "    .select(missions[\"Mission\"], sample_total_weight[\"sum(Weight(kg))\"]) \\\n",
    "    .orderBy(missions[\"Mission\"])\n",
    "\n",
    "# Rename Column\n",
    "missions = missions.withColumnRenamed(\"sum(Weight(kg))\",\"Sample_weight(kg)\")\n",
    "missions.show()\n"
   ]
  },
  {
   "cell_type": "code",
   "execution_count": 110,
   "id": "f3d01ac3",
   "metadata": {},
   "outputs": [],
   "source": [
    "# Get the difference in weights across missions\n",
    "\n",
    "# Create window\n",
    "windowSpec  = Window.orderBy(\"Mission\")\n",
    "\n",
    "#Simulate Pandas diff() API on PySpark usinl lag function (with above windowSpec)\n",
    "missions = missions.withColumn(\"lag\",lag(\"Sample_weight(kg)\",1).over(windowSpec)) \\\n",
    "      .withColumn(\"Weight_diff\", col(\"Sample_weight(kg)\") - col(\"lag\")) \\\n",
    "      .select(\"Mission\",\"Sample_weight(kg)\",\"Weight_diff\")\n"
   ]
  },
  {
   "cell_type": "code",
   "execution_count": 111,
   "id": "1f6ae6bb",
   "metadata": {},
   "outputs": [
    {
     "name": "stdout",
     "output_type": "stream",
     "text": [
      "+--------+------------------+------------------+\n",
      "| Mission| Sample_weight(kg)|       Weight_diff|\n",
      "+--------+------------------+------------------+\n",
      "|Apollo11|          21.55424|               0.0|\n",
      "|Apollo12|          34.34238|12.788139999999999|\n",
      "|Apollo14|          41.83363| 7.491250000000001|\n",
      "|Apollo15| 75.39910000000005| 33.56547000000005|\n",
      "|Apollo16| 92.46262000000006| 17.06352000000001|\n",
      "|Apollo17|109.44402000000001| 16.98139999999995|\n",
      "+--------+------------------+------------------+\n",
      "\n"
     ]
    }
   ],
   "source": [
    "# Replace Null values\n",
    "\n",
    "missions = missions.na.fill(value=0,subset=[\"Weight_diff\"])\n",
    "missions.show()\n"
   ]
  }
 ],
 "metadata": {
  "kernelspec": {
   "display_name": "Python 3 (ipykernel)",
   "language": "python",
   "name": "python3"
  },
  "language_info": {
   "codemirror_mode": {
    "name": "ipython",
    "version": 3
   },
   "file_extension": ".py",
   "mimetype": "text/x-python",
   "name": "python",
   "nbconvert_exporter": "python",
   "pygments_lexer": "ipython3",
   "version": "3.11.5"
  }
 },
 "nbformat": 4,
 "nbformat_minor": 5
}
