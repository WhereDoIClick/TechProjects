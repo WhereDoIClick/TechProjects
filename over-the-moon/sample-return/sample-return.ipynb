{
 "cells": [
  {
   "cell_type": "markdown",
   "metadata": {},
   "source": [
    "# Exercise - Get the rock sample data into Visual Studio Code"
   ]
  },
  {
   "cell_type": "code",
   "execution_count": 2,
   "metadata": {},
   "outputs": [],
   "source": [
    "import pandas as pd \n",
    "\n",
    "rock_samples = pd.read_csv('data/rocksamples.csv') "
   ]
  },
  {
   "cell_type": "code",
   "execution_count": 3,
   "metadata": {},
   "outputs": [
    {
     "data": {
      "text/html": [
       "<div>\n",
       "<style scoped>\n",
       "    .dataframe tbody tr th:only-of-type {\n",
       "        vertical-align: middle;\n",
       "    }\n",
       "\n",
       "    .dataframe tbody tr th {\n",
       "        vertical-align: top;\n",
       "    }\n",
       "\n",
       "    .dataframe thead th {\n",
       "        text-align: right;\n",
       "    }\n",
       "</style>\n",
       "<table border=\"1\" class=\"dataframe\">\n",
       "  <thead>\n",
       "    <tr style=\"text-align: right;\">\n",
       "      <th></th>\n",
       "      <th>ID</th>\n",
       "      <th>Mission</th>\n",
       "      <th>Type</th>\n",
       "      <th>Subtype</th>\n",
       "      <th>Weight (g)</th>\n",
       "      <th>Pristine (%)</th>\n",
       "    </tr>\n",
       "  </thead>\n",
       "  <tbody>\n",
       "    <tr>\n",
       "      <th>0</th>\n",
       "      <td>10001</td>\n",
       "      <td>Apollo11</td>\n",
       "      <td>Soil</td>\n",
       "      <td>Unsieved</td>\n",
       "      <td>125.8</td>\n",
       "      <td>88.36</td>\n",
       "    </tr>\n",
       "    <tr>\n",
       "      <th>1</th>\n",
       "      <td>10002</td>\n",
       "      <td>Apollo11</td>\n",
       "      <td>Soil</td>\n",
       "      <td>Unsieved</td>\n",
       "      <td>5629.0</td>\n",
       "      <td>93.73</td>\n",
       "    </tr>\n",
       "    <tr>\n",
       "      <th>2</th>\n",
       "      <td>10003</td>\n",
       "      <td>Apollo11</td>\n",
       "      <td>Basalt</td>\n",
       "      <td>Ilmenite</td>\n",
       "      <td>213.0</td>\n",
       "      <td>65.56</td>\n",
       "    </tr>\n",
       "    <tr>\n",
       "      <th>3</th>\n",
       "      <td>10004</td>\n",
       "      <td>Apollo11</td>\n",
       "      <td>Core</td>\n",
       "      <td>Unsieved</td>\n",
       "      <td>44.8</td>\n",
       "      <td>71.76</td>\n",
       "    </tr>\n",
       "    <tr>\n",
       "      <th>4</th>\n",
       "      <td>10005</td>\n",
       "      <td>Apollo11</td>\n",
       "      <td>Core</td>\n",
       "      <td>Unsieved</td>\n",
       "      <td>53.4</td>\n",
       "      <td>40.31</td>\n",
       "    </tr>\n",
       "  </tbody>\n",
       "</table>\n",
       "</div>"
      ],
      "text/plain": [
       "      ID   Mission    Type   Subtype  Weight (g)  Pristine (%)\n",
       "0  10001  Apollo11    Soil  Unsieved       125.8         88.36\n",
       "1  10002  Apollo11    Soil  Unsieved      5629.0         93.73\n",
       "2  10003  Apollo11  Basalt  Ilmenite       213.0         65.56\n",
       "3  10004  Apollo11    Core  Unsieved        44.8         71.76\n",
       "4  10005  Apollo11    Core  Unsieved        53.4         40.31"
      ]
     },
     "execution_count": 3,
     "metadata": {},
     "output_type": "execute_result"
    }
   ],
   "source": [
    "rock_samples.head()"
   ]
  },
  {
   "cell_type": "code",
   "execution_count": 4,
   "metadata": {},
   "outputs": [
    {
     "name": "stdout",
     "output_type": "stream",
     "text": [
      "<class 'pandas.core.frame.DataFrame'>\n",
      "RangeIndex: 2229 entries, 0 to 2228\n",
      "Data columns (total 6 columns):\n",
      " #   Column        Non-Null Count  Dtype  \n",
      "---  ------        --------------  -----  \n",
      " 0   ID            2229 non-null   int64  \n",
      " 1   Mission       2229 non-null   object \n",
      " 2   Type          2229 non-null   object \n",
      " 3   Subtype       2226 non-null   object \n",
      " 4   Weight (g)    2229 non-null   float64\n",
      " 5   Pristine (%)  2229 non-null   float64\n",
      "dtypes: float64(2), int64(1), object(3)\n",
      "memory usage: 104.6+ KB\n"
     ]
    }
   ],
   "source": [
    "rock_samples.info()"
   ]
  },
  {
   "cell_type": "markdown",
   "metadata": {},
   "source": [
    "## My Tests\n",
    "*LM Tests*\n",
    "\n",
    "**09/02/2024**\n",
    "\n",
    "- Test 1\n",
    "- test 2"
   ]
  },
  {
   "cell_type": "code",
   "execution_count": 5,
   "metadata": {},
   "outputs": [
    {
     "data": {
      "text/plain": [
       "pandas.core.frame.DataFrame"
      ]
     },
     "execution_count": 5,
     "metadata": {},
     "output_type": "execute_result"
    }
   ],
   "source": [
    "type(rock_samples)"
   ]
  },
  {
   "cell_type": "markdown",
   "metadata": {},
   "source": [
    "# Exercise - Determine the question to ask to inform data cleansing"
   ]
  },
  {
   "cell_type": "code",
   "execution_count": 6,
   "metadata": {},
   "outputs": [
    {
     "data": {
      "text/html": [
       "<div>\n",
       "<style scoped>\n",
       "    .dataframe tbody tr th:only-of-type {\n",
       "        vertical-align: middle;\n",
       "    }\n",
       "\n",
       "    .dataframe tbody tr th {\n",
       "        vertical-align: top;\n",
       "    }\n",
       "\n",
       "    .dataframe thead th {\n",
       "        text-align: right;\n",
       "    }\n",
       "</style>\n",
       "<table border=\"1\" class=\"dataframe\">\n",
       "  <thead>\n",
       "    <tr style=\"text-align: right;\">\n",
       "      <th></th>\n",
       "      <th>ID</th>\n",
       "      <th>Mission</th>\n",
       "      <th>Type</th>\n",
       "      <th>Subtype</th>\n",
       "      <th>Weight (kg)</th>\n",
       "      <th>Pristine (%)</th>\n",
       "    </tr>\n",
       "  </thead>\n",
       "  <tbody>\n",
       "    <tr>\n",
       "      <th>0</th>\n",
       "      <td>10001</td>\n",
       "      <td>Apollo11</td>\n",
       "      <td>Soil</td>\n",
       "      <td>Unsieved</td>\n",
       "      <td>0.1258</td>\n",
       "      <td>88.36</td>\n",
       "    </tr>\n",
       "    <tr>\n",
       "      <th>1</th>\n",
       "      <td>10002</td>\n",
       "      <td>Apollo11</td>\n",
       "      <td>Soil</td>\n",
       "      <td>Unsieved</td>\n",
       "      <td>5.6290</td>\n",
       "      <td>93.73</td>\n",
       "    </tr>\n",
       "    <tr>\n",
       "      <th>2</th>\n",
       "      <td>10003</td>\n",
       "      <td>Apollo11</td>\n",
       "      <td>Basalt</td>\n",
       "      <td>Ilmenite</td>\n",
       "      <td>0.2130</td>\n",
       "      <td>65.56</td>\n",
       "    </tr>\n",
       "    <tr>\n",
       "      <th>3</th>\n",
       "      <td>10004</td>\n",
       "      <td>Apollo11</td>\n",
       "      <td>Core</td>\n",
       "      <td>Unsieved</td>\n",
       "      <td>0.0448</td>\n",
       "      <td>71.76</td>\n",
       "    </tr>\n",
       "    <tr>\n",
       "      <th>4</th>\n",
       "      <td>10005</td>\n",
       "      <td>Apollo11</td>\n",
       "      <td>Core</td>\n",
       "      <td>Unsieved</td>\n",
       "      <td>0.0534</td>\n",
       "      <td>40.31</td>\n",
       "    </tr>\n",
       "  </tbody>\n",
       "</table>\n",
       "</div>"
      ],
      "text/plain": [
       "      ID   Mission    Type   Subtype  Weight (kg)  Pristine (%)\n",
       "0  10001  Apollo11    Soil  Unsieved       0.1258         88.36\n",
       "1  10002  Apollo11    Soil  Unsieved       5.6290         93.73\n",
       "2  10003  Apollo11  Basalt  Ilmenite       0.2130         65.56\n",
       "3  10004  Apollo11    Core  Unsieved       0.0448         71.76\n",
       "4  10005  Apollo11    Core  Unsieved       0.0534         40.31"
      ]
     },
     "execution_count": 6,
     "metadata": {},
     "output_type": "execute_result"
    }
   ],
   "source": [
    "# Convert the sample weight\n",
    "\n",
    "rock_samples['Weight (g)'] = rock_samples['Weight (g)'].apply(lambda x : x * 0.001)\n",
    "rock_samples.rename(columns={'Weight (g)':'Weight (kg)'}, inplace=True)\n",
    "rock_samples.head()"
   ]
  },
  {
   "cell_type": "code",
   "execution_count": 7,
   "metadata": {},
   "outputs": [
    {
     "data": {
      "text/html": [
       "<div>\n",
       "<style scoped>\n",
       "    .dataframe tbody tr th:only-of-type {\n",
       "        vertical-align: middle;\n",
       "    }\n",
       "\n",
       "    .dataframe tbody tr th {\n",
       "        vertical-align: top;\n",
       "    }\n",
       "\n",
       "    .dataframe thead th {\n",
       "        text-align: right;\n",
       "    }\n",
       "</style>\n",
       "<table border=\"1\" class=\"dataframe\">\n",
       "  <thead>\n",
       "    <tr style=\"text-align: right;\">\n",
       "      <th></th>\n",
       "      <th>Mission</th>\n",
       "    </tr>\n",
       "  </thead>\n",
       "  <tbody>\n",
       "    <tr>\n",
       "      <th>0</th>\n",
       "      <td>Apollo11</td>\n",
       "    </tr>\n",
       "    <tr>\n",
       "      <th>1</th>\n",
       "      <td>Apollo12</td>\n",
       "    </tr>\n",
       "    <tr>\n",
       "      <th>2</th>\n",
       "      <td>Apollo14</td>\n",
       "    </tr>\n",
       "    <tr>\n",
       "      <th>3</th>\n",
       "      <td>Apollo15</td>\n",
       "    </tr>\n",
       "    <tr>\n",
       "      <th>4</th>\n",
       "      <td>Apollo16</td>\n",
       "    </tr>\n",
       "  </tbody>\n",
       "</table>\n",
       "</div>"
      ],
      "text/plain": [
       "    Mission\n",
       "0  Apollo11\n",
       "1  Apollo12\n",
       "2  Apollo14\n",
       "3  Apollo15\n",
       "4  Apollo16"
      ]
     },
     "execution_count": 7,
     "metadata": {},
     "output_type": "execute_result"
    }
   ],
   "source": [
    "# Create a new DataFrame called missions that will be a summary of data for each of the six Apollo missions that brought samples back. \n",
    "# Create a column in this DataFrame called Mission that has one row for each mission.\n",
    "\n",
    "missions = pd.DataFrame()\n",
    "missions['Mission'] = rock_samples['Mission'].unique()\n",
    "missions.head()"
   ]
  },
  {
   "cell_type": "code",
   "execution_count": 8,
   "metadata": {},
   "outputs": [
    {
     "name": "stdout",
     "output_type": "stream",
     "text": [
      "<class 'pandas.core.frame.DataFrame'>\n",
      "RangeIndex: 6 entries, 0 to 5\n",
      "Data columns (total 1 columns):\n",
      " #   Column   Non-Null Count  Dtype \n",
      "---  ------   --------------  ----- \n",
      " 0   Mission  6 non-null      object\n",
      "dtypes: object(1)\n",
      "memory usage: 180.0+ bytes\n"
     ]
    }
   ],
   "source": [
    "missions.info()"
   ]
  },
  {
   "cell_type": "code",
   "execution_count": 9,
   "metadata": {},
   "outputs": [
    {
     "data": {
      "text/html": [
       "<div>\n",
       "<style scoped>\n",
       "    .dataframe tbody tr th:only-of-type {\n",
       "        vertical-align: middle;\n",
       "    }\n",
       "\n",
       "    .dataframe tbody tr th {\n",
       "        vertical-align: top;\n",
       "    }\n",
       "\n",
       "    .dataframe thead th {\n",
       "        text-align: right;\n",
       "    }\n",
       "</style>\n",
       "<table border=\"1\" class=\"dataframe\">\n",
       "  <thead>\n",
       "    <tr style=\"text-align: right;\">\n",
       "      <th></th>\n",
       "      <th>Mission</th>\n",
       "      <th>Sample weight (kg)</th>\n",
       "    </tr>\n",
       "  </thead>\n",
       "  <tbody>\n",
       "    <tr>\n",
       "      <th>0</th>\n",
       "      <td>Apollo11</td>\n",
       "      <td>21.55424</td>\n",
       "    </tr>\n",
       "    <tr>\n",
       "      <th>1</th>\n",
       "      <td>Apollo12</td>\n",
       "      <td>34.34238</td>\n",
       "    </tr>\n",
       "    <tr>\n",
       "      <th>2</th>\n",
       "      <td>Apollo14</td>\n",
       "      <td>41.83363</td>\n",
       "    </tr>\n",
       "    <tr>\n",
       "      <th>3</th>\n",
       "      <td>Apollo15</td>\n",
       "      <td>75.39910</td>\n",
       "    </tr>\n",
       "    <tr>\n",
       "      <th>4</th>\n",
       "      <td>Apollo16</td>\n",
       "      <td>92.46262</td>\n",
       "    </tr>\n",
       "    <tr>\n",
       "      <th>5</th>\n",
       "      <td>Apollo17</td>\n",
       "      <td>109.44402</td>\n",
       "    </tr>\n",
       "  </tbody>\n",
       "</table>\n",
       "</div>"
      ],
      "text/plain": [
       "    Mission  Sample weight (kg)\n",
       "0  Apollo11            21.55424\n",
       "1  Apollo12            34.34238\n",
       "2  Apollo14            41.83363\n",
       "3  Apollo15            75.39910\n",
       "4  Apollo16            92.46262\n",
       "5  Apollo17           109.44402"
      ]
     },
     "execution_count": 9,
     "metadata": {},
     "output_type": "execute_result"
    }
   ],
   "source": [
    "# Sum total sample weight by mission\n",
    "\n",
    "sample_total_weight = rock_samples.groupby('Mission')['Weight (kg)'].sum()\n",
    "missions = pd.merge(missions, sample_total_weight, on='Mission')\n",
    "missions.rename(columns={'Weight (kg)':'Sample weight (kg)'}, inplace=True)\n",
    "missions"
   ]
  },
  {
   "cell_type": "code",
   "execution_count": 10,
   "metadata": {},
   "outputs": [
    {
     "data": {
      "text/html": [
       "<div>\n",
       "<style scoped>\n",
       "    .dataframe tbody tr th:only-of-type {\n",
       "        vertical-align: middle;\n",
       "    }\n",
       "\n",
       "    .dataframe tbody tr th {\n",
       "        vertical-align: top;\n",
       "    }\n",
       "\n",
       "    .dataframe thead th {\n",
       "        text-align: right;\n",
       "    }\n",
       "</style>\n",
       "<table border=\"1\" class=\"dataframe\">\n",
       "  <thead>\n",
       "    <tr style=\"text-align: right;\">\n",
       "      <th></th>\n",
       "      <th>Mission</th>\n",
       "      <th>Sample weight (kg)</th>\n",
       "      <th>Weight diff</th>\n",
       "    </tr>\n",
       "  </thead>\n",
       "  <tbody>\n",
       "    <tr>\n",
       "      <th>0</th>\n",
       "      <td>Apollo11</td>\n",
       "      <td>21.55424</td>\n",
       "      <td>NaN</td>\n",
       "    </tr>\n",
       "    <tr>\n",
       "      <th>1</th>\n",
       "      <td>Apollo12</td>\n",
       "      <td>34.34238</td>\n",
       "      <td>12.78814</td>\n",
       "    </tr>\n",
       "    <tr>\n",
       "      <th>2</th>\n",
       "      <td>Apollo14</td>\n",
       "      <td>41.83363</td>\n",
       "      <td>7.49125</td>\n",
       "    </tr>\n",
       "    <tr>\n",
       "      <th>3</th>\n",
       "      <td>Apollo15</td>\n",
       "      <td>75.39910</td>\n",
       "      <td>33.56547</td>\n",
       "    </tr>\n",
       "    <tr>\n",
       "      <th>4</th>\n",
       "      <td>Apollo16</td>\n",
       "      <td>92.46262</td>\n",
       "      <td>17.06352</td>\n",
       "    </tr>\n",
       "    <tr>\n",
       "      <th>5</th>\n",
       "      <td>Apollo17</td>\n",
       "      <td>109.44402</td>\n",
       "      <td>16.98140</td>\n",
       "    </tr>\n",
       "  </tbody>\n",
       "</table>\n",
       "</div>"
      ],
      "text/plain": [
       "    Mission  Sample weight (kg)  Weight diff\n",
       "0  Apollo11            21.55424          NaN\n",
       "1  Apollo12            34.34238     12.78814\n",
       "2  Apollo14            41.83363      7.49125\n",
       "3  Apollo15            75.39910     33.56547\n",
       "4  Apollo16            92.46262     17.06352\n",
       "5  Apollo17           109.44402     16.98140"
      ]
     },
     "execution_count": 10,
     "metadata": {},
     "output_type": "execute_result"
    }
   ],
   "source": [
    "# Get the difference in weights across missions\n",
    "\n",
    "missions['Weight diff'] = missions['Sample weight (kg)'].diff()\n",
    "missions"
   ]
  },
  {
   "cell_type": "code",
   "execution_count": 11,
   "metadata": {},
   "outputs": [
    {
     "data": {
      "text/html": [
       "<div>\n",
       "<style scoped>\n",
       "    .dataframe tbody tr th:only-of-type {\n",
       "        vertical-align: middle;\n",
       "    }\n",
       "\n",
       "    .dataframe tbody tr th {\n",
       "        vertical-align: top;\n",
       "    }\n",
       "\n",
       "    .dataframe thead th {\n",
       "        text-align: right;\n",
       "    }\n",
       "</style>\n",
       "<table border=\"1\" class=\"dataframe\">\n",
       "  <thead>\n",
       "    <tr style=\"text-align: right;\">\n",
       "      <th></th>\n",
       "      <th>Mission</th>\n",
       "      <th>Sample weight (kg)</th>\n",
       "      <th>Weight diff</th>\n",
       "    </tr>\n",
       "  </thead>\n",
       "  <tbody>\n",
       "    <tr>\n",
       "      <th>0</th>\n",
       "      <td>Apollo11</td>\n",
       "      <td>21.55424</td>\n",
       "      <td>0.00000</td>\n",
       "    </tr>\n",
       "    <tr>\n",
       "      <th>1</th>\n",
       "      <td>Apollo12</td>\n",
       "      <td>34.34238</td>\n",
       "      <td>12.78814</td>\n",
       "    </tr>\n",
       "    <tr>\n",
       "      <th>2</th>\n",
       "      <td>Apollo14</td>\n",
       "      <td>41.83363</td>\n",
       "      <td>7.49125</td>\n",
       "    </tr>\n",
       "    <tr>\n",
       "      <th>3</th>\n",
       "      <td>Apollo15</td>\n",
       "      <td>75.39910</td>\n",
       "      <td>33.56547</td>\n",
       "    </tr>\n",
       "    <tr>\n",
       "      <th>4</th>\n",
       "      <td>Apollo16</td>\n",
       "      <td>92.46262</td>\n",
       "      <td>17.06352</td>\n",
       "    </tr>\n",
       "    <tr>\n",
       "      <th>5</th>\n",
       "      <td>Apollo17</td>\n",
       "      <td>109.44402</td>\n",
       "      <td>16.98140</td>\n",
       "    </tr>\n",
       "  </tbody>\n",
       "</table>\n",
       "</div>"
      ],
      "text/plain": [
       "    Mission  Sample weight (kg)  Weight diff\n",
       "0  Apollo11            21.55424      0.00000\n",
       "1  Apollo12            34.34238     12.78814\n",
       "2  Apollo14            41.83363      7.49125\n",
       "3  Apollo15            75.39910     33.56547\n",
       "4  Apollo16            92.46262     17.06352\n",
       "5  Apollo17           109.44402     16.98140"
      ]
     },
     "execution_count": 11,
     "metadata": {},
     "output_type": "execute_result"
    }
   ],
   "source": [
    "# Replace Nulll values\n",
    "\n",
    "missions['Weight diff'] = missions['Weight diff'].fillna(value=0)\n",
    "missions"
   ]
  }
 ],
 "metadata": {
  "kernelspec": {
   "display_name": "Python 3",
   "language": "python",
   "name": "python3"
  },
  "language_info": {
   "codemirror_mode": {
    "name": "ipython",
    "version": 3
   },
   "file_extension": ".py",
   "mimetype": "text/x-python",
   "name": "python",
   "nbconvert_exporter": "python",
   "pygments_lexer": "ipython3",
   "version": "3.11.5"
  }
 },
 "nbformat": 4,
 "nbformat_minor": 2
}
