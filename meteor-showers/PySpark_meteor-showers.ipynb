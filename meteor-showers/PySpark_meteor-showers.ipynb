{
 "cells": [
  {
   "cell_type": "markdown",
   "metadata": {},
   "source": [
    "## Initializations"
   ]
  },
  {
   "cell_type": "code",
   "execution_count": 3,
   "metadata": {},
   "outputs": [],
   "source": [
    "# Needed to enable %%sparksql magic (Enables SQL instructions execution)\n",
    "%load_ext sparksql_magic"
   ]
  },
  {
   "cell_type": "code",
   "execution_count": 4,
   "metadata": {},
   "outputs": [],
   "source": [
    "# Imports\n",
    "from pyspark.sql import SparkSession\n",
    "\n",
    "from pyspark.sql.types import IntegerType\n",
    "from pyspark.sql.functions import col,lag, lit, round, mean as _mean, sum as _sum, expr, create_map, to_date, month, dayofmonth, date_format, min as _min"
   ]
  },
  {
   "cell_type": "code",
   "execution_count": 5,
   "metadata": {},
   "outputs": [],
   "source": [
    "# Create SparkSession\n",
    "spark = SparkSession.builder.appName(\"Meteor Showers\") \\\n",
    "    .enableHiveSupport() \\\n",
    "    .getOrCreate()"
   ]
  },
  {
   "cell_type": "code",
   "execution_count": 6,
   "metadata": {},
   "outputs": [],
   "source": [
    "# Config\n",
    "cBaseDataPath = \"file:///C:/Users/manso/LocalDocuments/10-TechProjects/meteor-showers/data/\""
   ]
  },
  {
   "cell_type": "markdown",
   "metadata": {},
   "source": [
    "## Create DB structures (according to medallion architecture)"
   ]
  },
  {
   "cell_type": "markdown",
   "metadata": {},
   "source": [
    "### Bronze Layer"
   ]
  },
  {
   "cell_type": "code",
   "execution_count": 7,
   "metadata": {
    "vscode": {
     "languageId": "sql"
    }
   },
   "outputs": [
    {
     "data": {
      "text/html": [
       "<table><tr style=\"border-bottom: 1px solid\"></tr></table>"
      ],
      "text/plain": [
       "<IPython.core.display.HTML object>"
      ]
     },
     "execution_count": 7,
     "metadata": {},
     "output_type": "execute_result"
    }
   ],
   "source": [
    "%%sparksql\n",
    "\n",
    "-- Create dbMeteorShowers Bronze Layer database\n",
    "\n",
    "-- DROP section (if needed)\n",
    "--DROP DATABASE dbBMeteorShowers\n",
    "\n",
    "-- Create database\n",
    "CREATE DATABASE IF NOT EXISTS dbBMeteorShowers;"
   ]
  },
  {
   "cell_type": "markdown",
   "metadata": {},
   "source": [
    "### Silver Layer"
   ]
  },
  {
   "cell_type": "code",
   "execution_count": 8,
   "metadata": {
    "vscode": {
     "languageId": "sql"
    }
   },
   "outputs": [
    {
     "data": {
      "text/html": [
       "<table><tr style=\"border-bottom: 1px solid\"></tr></table>"
      ],
      "text/plain": [
       "<IPython.core.display.HTML object>"
      ]
     },
     "execution_count": 8,
     "metadata": {},
     "output_type": "execute_result"
    }
   ],
   "source": [
    "%%sparksql\n",
    "\n",
    "-- Create dbMeteorShowers Silver Layer database\n",
    "\n",
    "-- DROP section (if needed)\n",
    "--DROP DATABASE dbSMeteorShowers\n",
    "\n",
    "-- Create database\n",
    "CREATE DATABASE IF NOT EXISTS dbSMeteorShowers;"
   ]
  },
  {
   "cell_type": "markdown",
   "metadata": {},
   "source": [
    "### Gold Layer"
   ]
  },
  {
   "cell_type": "code",
   "execution_count": 9,
   "metadata": {
    "vscode": {
     "languageId": "sql"
    }
   },
   "outputs": [
    {
     "data": {
      "text/html": [
       "<table><tr style=\"border-bottom: 1px solid\"></tr></table>"
      ],
      "text/plain": [
       "<IPython.core.display.HTML object>"
      ]
     },
     "execution_count": 9,
     "metadata": {},
     "output_type": "execute_result"
    }
   ],
   "source": [
    "%%sparksql\n",
    "\n",
    "-- Create dbMeteorShowers Gold Layer database\n",
    "\n",
    "-- DROP section (if needed)\n",
    "--DROP DATABASE dbGMeteorShowers\n",
    "\n",
    "-- Create database\n",
    "CREATE DATABASE IF NOT EXISTS dbGMeteorShowers;"
   ]
  },
  {
   "cell_type": "code",
   "execution_count": 10,
   "metadata": {},
   "outputs": [
    {
     "name": "stdout",
     "output_type": "stream",
     "text": [
      "+----------------+\n",
      "|       namespace|\n",
      "+----------------+\n",
      "|dbbmeteorshowers|\n",
      "|dbgmeteorshowers|\n",
      "|dbsmeteorshowers|\n",
      "|         default|\n",
      "+----------------+\n",
      "\n",
      "Table list:\n",
      "cities\n",
      "constellations\n",
      "meteorshowers\n",
      "moonphases\n"
     ]
    }
   ],
   "source": [
    "# List existing databases\n",
    "spark.sql('show databases').show()\n",
    "\n",
    "# List train database tables\n",
    "tablesdbb = spark.catalog.listTables('dbbmeteorshowers')\n",
    "\n",
    "print(\"Table list:\")\n",
    "for table in tablesdbb:\n",
    "    print(table.name)"
   ]
  },
  {
   "cell_type": "markdown",
   "metadata": {},
   "source": [
    "# Exercise - Cleanse meteor data"
   ]
  },
  {
   "cell_type": "code",
   "execution_count": 11,
   "metadata": {},
   "outputs": [],
   "source": [
    "# Import all four .csv files\n",
    "\n",
    "rawLoadDataEntitiesDict = {\n",
    "    \"meteor_showers\": \"meteorshowers.csv\",\n",
    "    \"moon_phases\" : \"moonphases.csv\",\n",
    "    \"constellations\" : \"constellations.csv\",\n",
    "    \"cities\" : \"cities.csv\"\n",
    "}\n",
    "\n",
    "dfmeteor_showers = spark.read.options(inferSchema=\"True\", header= \"True\").csv(cBaseDataPath + rawLoadDataEntitiesDict[\"meteor_showers\"])\n",
    "dfmoon_phases = spark.read.options(inferSchema=\"True\", header= \"True\").csv(cBaseDataPath + rawLoadDataEntitiesDict[\"moon_phases\"])\n",
    "dfconstellations = spark.read.options(inferSchema=\"True\", header= \"True\").csv(cBaseDataPath + rawLoadDataEntitiesDict[\"constellations\"])\n",
    "dfcities = spark.read.options(inferSchema=\"True\", header= \"True\").csv(cBaseDataPath + rawLoadDataEntitiesDict[\"cities\"])\n"
   ]
  },
  {
   "cell_type": "code",
   "execution_count": 12,
   "metadata": {},
   "outputs": [
    {
     "name": "stdout",
     "output_type": "stream",
     "text": [
      "['name', 'radiant', 'bestmonth', 'startmonth', 'startday', 'endmonth', 'endday', 'hemisphere', 'preferredhemisphere']\n",
      "{'name': \"Chang'e\", 'radiant': 'Draco', 'bestmonth': 'october', 'startmonth': 'october', 'startday': 1, 'endmonth': 'october', 'endday': 31, 'hemisphere': 'northern', 'preferredhemisphere': 'northern'}\n",
      "[\"Chang'e\", 'Draco', 'october', 'october', 1, 'october', 31, 'northern', 'northern']\n"
     ]
    }
   ],
   "source": [
    "# Test list comprehension\n",
    "dictChange = {'name':'Chang\\'e','radiant':'Draco','bestmonth':'october','startmonth':'october','startday':1,'endmonth':'october','endday':31,'hemisphere':'northern','preferredhemisphere':'northern'}\n",
    "listChange = list(dictChange.keys())\n",
    "\n",
    "strChange = [(dictChange[idx1]) for idx1 in listChange]\n",
    "\n",
    "print(listChange)\n",
    "print(dictChange)\n",
    "print(strChange)\n",
    "\n",
    "\n",
    "#programming_languages.index(\"Python\")\n"
   ]
  },
  {
   "cell_type": "code",
   "execution_count": 13,
   "metadata": {},
   "outputs": [
    {
     "name": "stdout",
     "output_type": "stream",
     "text": [
      "root\n",
      " |-- name: string (nullable = true)\n",
      " |-- radiant: string (nullable = true)\n",
      " |-- bestmonth: string (nullable = true)\n",
      " |-- startmonth: string (nullable = true)\n",
      " |-- startday: integer (nullable = true)\n",
      " |-- endmonth: string (nullable = true)\n",
      " |-- endday: integer (nullable = true)\n",
      " |-- hemisphere: string (nullable = true)\n",
      " |-- preferredhemisphere: string (nullable = true)\n",
      "\n",
      "+------------+--------+---------+----------+--------+--------+------+------------------+-------------------+\n",
      "|        name| radiant|bestmonth|startmonth|startday|endmonth|endday|        hemisphere|preferredhemisphere|\n",
      "+------------+--------+---------+----------+--------+--------+------+------------------+-------------------+\n",
      "|      Lyrids|    Lyra|    april|     april|      21|   april|    22|          northern|           northern|\n",
      "|Eta Aquarids|Aquarius|      may|     april|      19|     may|    28|northern, southern|           southern|\n",
      "|    Orionids|   Orion|  october|   october|       2|november|     7|northern, southern| northern, southern|\n",
      "|    Perseids| Perseus|   august|      july|      14|  august|    24|          northern|           northern|\n",
      "|     Leonids|     Leo| november|  november|       6|november|    30|northern, southern| northern, southern|\n",
      "|     Chang'e|   Draco|  october|   october|       1| october|    31|          northern|           northern|\n",
      "+------------+--------+---------+----------+--------+--------+------+------------------+-------------------+\n",
      "\n"
     ]
    }
   ],
   "source": [
    "# Create new entry for meteor shower\n",
    "\n",
    "change_meteor_shower = {'name':'Chang\\'e','radiant':'Draco','bestmonth':'october','startmonth':'october','startday':1,'endmonth':'october','endday':31,'hemisphere':'northern','preferredhemisphere':'northern'}\n",
    "\n",
    "# Test schema\n",
    "dfschema = dfmeteor_showers.where(\"1==2\").select(*[(col(x.name).cast(x.dataType)) for x in dfmeteor_showers.schema.fields])\n",
    "dfschema.printSchema()\n",
    "\n",
    "# Build target dataframe bringing 1 record from source dataframe\n",
    "# Note: This is a strategy to pick schema metadata\n",
    "dfAdd_meteor_shower = dfmeteor_showers.limit(1)\n",
    "\n",
    "# Dynamically populates target dataframe with dictionary field names:values structure\n",
    "# Note: Overwrites record brought from source dataframe \n",
    "for field in dfmeteor_showers.schema.fields:\n",
    "\n",
    "    # Get field value from dictionary\n",
    "    value = change_meteor_shower[field.name]\n",
    "    dfAdd_meteor_shower = dfAdd_meteor_shower.withColumn(field.name,lit(change_meteor_shower[field.name]).cast(field.dataType))\n",
    "\n",
    "dfmeteor_showers = dfmeteor_showers.unionAll(dfAdd_meteor_shower)\n",
    "\n",
    "dfmeteor_showers.show()\n"
   ]
  },
  {
   "cell_type": "code",
   "execution_count": 14,
   "metadata": {},
   "outputs": [
    {
     "name": "stdout",
     "output_type": "stream",
     "text": [
      "+-------------+---------+-------------+-----------+-------------------+----------+\n",
      "|constellation|bestmonth|latitudestart|latitudeend|           besttime|hemisphere|\n",
      "+-------------+---------+-------------+-----------+-------------------+----------+\n",
      "|         Lyra|   august|           90|        -40|2024-02-21 21:00:00|  northern|\n",
      "|     Aquarius|  october|           65|        -90|2024-02-21 21:00:00|  southern|\n",
      "|        Orion|  january|           85|        -75|2024-02-21 21:00:00|  northern|\n",
      "|      Perseus| december|           90|        -35|2024-02-21 21:00:00|  northern|\n",
      "|          Leo|    april|           90|         65|2024-02-21 21:00:00|  northern|\n",
      "+-------------+---------+-------------+-----------+-------------------+----------+\n",
      "\n",
      "root\n",
      " |-- constellation: string (nullable = true)\n",
      " |-- bestmonth: string (nullable = true)\n",
      " |-- latitudestart: integer (nullable = true)\n",
      " |-- latitudeend: integer (nullable = true)\n",
      " |-- besttime: timestamp (nullable = true)\n",
      " |-- hemisphere: string (nullable = true)\n",
      "\n",
      "+-------------+---------+-------------+-----------+-------------------+----------+\n",
      "|constellation|bestmonth|latitudestart|latitudeend|           besttime|hemisphere|\n",
      "+-------------+---------+-------------+-----------+-------------------+----------+\n",
      "|         Lyra|   august|           90|        -40|2024-02-21 21:00:00|  northern|\n",
      "|     Aquarius|  october|           65|        -90|2024-02-21 21:00:00|  southern|\n",
      "|        Orion|  january|           85|        -75|2024-02-21 21:00:00|  northern|\n",
      "|      Perseus| december|           90|        -35|2024-02-21 21:00:00|  northern|\n",
      "|          Leo|    april|           90|         65|2024-02-21 21:00:00|  northern|\n",
      "|        Draco|     july|           90|        -15|1970-01-01 01:35:00|  northern|\n",
      "+-------------+---------+-------------+-----------+-------------------+----------+\n",
      "\n"
     ]
    }
   ],
   "source": [
    "# Create an entry for the new Draco constellation:\n",
    "dfconstellations.show()\n",
    "\n",
    "draco_constellation = {'constellation':'Draco','bestmonth':'july','latitudestart':90,'latitudeend':-15,'besttime':2100,'hemisphere':'northern'}\n",
    "\n",
    "# Test schema\n",
    "dfschema = dfconstellations.where(\"1==2\").select(*[(col(x.name).cast(x.dataType)) for x in dfconstellations.schema.fields])\n",
    "dfschema.printSchema()\n",
    "\n",
    "# Build target dataframe bringing 1 record from source dataframe\n",
    "# Note: This is a strategy to pick schema metadata\n",
    "dfAdd_constellations = dfconstellations.limit(1)\n",
    "\n",
    "# Dynamically populates target dataframe with dictionary field names:values structure\n",
    "# Note: Overwrites record brought from source dataframe \n",
    "for field in dfconstellations.schema.fields:\n",
    "\n",
    "    # Get field value from dictionary\n",
    "    value = draco_constellation[field.name]\n",
    "    dfAdd_constellations = dfAdd_constellations.withColumn(field.name,lit(draco_constellation[field.name]).cast(field.dataType))\n",
    "\n",
    "dfconstellations = dfconstellations.unionAll(dfAdd_constellations)\n",
    "\n",
    "dfconstellations.show()\n",
    "\n"
   ]
  },
  {
   "cell_type": "markdown",
   "metadata": {},
   "source": [
    "## Explore data"
   ]
  },
  {
   "cell_type": "code",
   "execution_count": 15,
   "metadata": {},
   "outputs": [
    {
     "name": "stdout",
     "output_type": "stream",
     "text": [
      "<class 'pandas.core.frame.DataFrame'>\n",
      "RangeIndex: 6 entries, 0 to 5\n",
      "Data columns (total 9 columns):\n",
      " #   Column               Non-Null Count  Dtype \n",
      "---  ------               --------------  ----- \n",
      " 0   name                 6 non-null      object\n",
      " 1   radiant              6 non-null      object\n",
      " 2   bestmonth            6 non-null      object\n",
      " 3   startmonth           6 non-null      object\n",
      " 4   startday             6 non-null      int32 \n",
      " 5   endmonth             6 non-null      object\n",
      " 6   endday               6 non-null      int32 \n",
      " 7   hemisphere           6 non-null      object\n",
      " 8   preferredhemisphere  6 non-null      object\n",
      "dtypes: int32(2), object(7)\n",
      "memory usage: 516.0+ bytes\n",
      "+------------+--------+---------+----------+--------+--------+------+------------------+-------------------+\n",
      "|        name| radiant|bestmonth|startmonth|startday|endmonth|endday|        hemisphere|preferredhemisphere|\n",
      "+------------+--------+---------+----------+--------+--------+------+------------------+-------------------+\n",
      "|      Lyrids|    Lyra|    april|     april|      21|   april|    22|          northern|           northern|\n",
      "|Eta Aquarids|Aquarius|      may|     april|      19|     may|    28|northern, southern|           southern|\n",
      "|    Orionids|   Orion|  october|   october|       2|november|     7|northern, southern| northern, southern|\n",
      "|    Perseids| Perseus|   august|      july|      14|  august|    24|          northern|           northern|\n",
      "|     Leonids|     Leo| november|  november|       6|november|    30|northern, southern| northern, southern|\n",
      "+------------+--------+---------+----------+--------+--------+------+------------------+-------------------+\n",
      "only showing top 5 rows\n",
      "\n"
     ]
    }
   ],
   "source": [
    "dfmeteor_showers.toPandas().info()\n",
    "dfmeteor_showers.show(5)"
   ]
  },
  {
   "cell_type": "code",
   "execution_count": 16,
   "metadata": {},
   "outputs": [
    {
     "name": "stdout",
     "output_type": "stream",
     "text": [
      "+-------+---+-------------+------------+\n",
      "|  month|day|    moonphase|specialevent|\n",
      "+-------+---+-------------+------------+\n",
      "|january|  1|         NULL|        NULL|\n",
      "|january|  2|first quarter|        NULL|\n",
      "|january|  3|         NULL|        NULL|\n",
      "|january|  4|         NULL|        NULL|\n",
      "|january|  5|         NULL|        NULL|\n",
      "+-------+---+-------------+------------+\n",
      "only showing top 5 rows\n",
      "\n"
     ]
    }
   ],
   "source": [
    "#dfmoon_phases.toPandas().info()\n",
    "dfmoon_phases.show(5)"
   ]
  },
  {
   "cell_type": "code",
   "execution_count": 17,
   "metadata": {},
   "outputs": [
    {
     "name": "stdout",
     "output_type": "stream",
     "text": [
      "+-------------+---------+-------------+-----------+-------------------+----------+\n",
      "|constellation|bestmonth|latitudestart|latitudeend|           besttime|hemisphere|\n",
      "+-------------+---------+-------------+-----------+-------------------+----------+\n",
      "|         Lyra|   august|           90|        -40|2024-02-21 21:00:00|  northern|\n",
      "|     Aquarius|  october|           65|        -90|2024-02-21 21:00:00|  southern|\n",
      "|        Orion|  january|           85|        -75|2024-02-21 21:00:00|  northern|\n",
      "|      Perseus| december|           90|        -35|2024-02-21 21:00:00|  northern|\n",
      "|          Leo|    april|           90|         65|2024-02-21 21:00:00|  northern|\n",
      "+-------------+---------+-------------+-----------+-------------------+----------+\n",
      "only showing top 5 rows\n",
      "\n"
     ]
    }
   ],
   "source": [
    "#dfconstellations.toPandas().info()\n",
    "dfconstellations.show(5)"
   ]
  },
  {
   "cell_type": "code",
   "execution_count": 18,
   "metadata": {},
   "outputs": [
    {
     "name": "stdout",
     "output_type": "stream",
     "text": [
      "<class 'pandas.core.frame.DataFrame'>\n",
      "RangeIndex: 256 entries, 0 to 255\n",
      "Data columns (total 3 columns):\n",
      " #   Column    Non-Null Count  Dtype  \n",
      "---  ------    --------------  -----  \n",
      " 0   city      256 non-null    object \n",
      " 1   latitude  256 non-null    float64\n",
      " 2   country   256 non-null    object \n",
      "dtypes: float64(1), object(2)\n",
      "memory usage: 6.1+ KB\n",
      "+----------------+--------+--------------------+\n",
      "|            city|latitude|             country|\n",
      "+----------------+--------+--------------------+\n",
      "|       Abu Dhabi|   24.47|United Arab Emirates|\n",
      "|           Abuja|    9.07|             Nigeria|\n",
      "|           Accra|    5.55|               Ghana|\n",
      "|       Adamstown|  -25.07|    Pitcairn Islands|\n",
      "|     Addis Ababa|    9.02|            Ethiopia|\n",
      "|         Algiers|   36.77|             Algeria|\n",
      "|           Alofi|  -19.07|                Niue|\n",
      "|           Amman|   31.93|              Jordan|\n",
      "|       Amsterdam|   52.37|         Netherlands|\n",
      "|Andorra la Vella|    42.5|             Andorra|\n",
      "+----------------+--------+--------------------+\n",
      "only showing top 10 rows\n",
      "\n"
     ]
    }
   ],
   "source": [
    "dfcities.toPandas().info()\n",
    "dfcities.show(10)"
   ]
  },
  {
   "cell_type": "markdown",
   "metadata": {},
   "source": [
    " ## Load Raw data to Bronze Layer"
   ]
  },
  {
   "cell_type": "code",
   "execution_count": 19,
   "metadata": {},
   "outputs": [],
   "source": [
    "# Write to (managed) tables on dbMeteorShowers database\n",
    "\n",
    "dfmeteor_showers.write.mode(\"Overwrite\")\\\n",
    "    .saveAsTable(\"dbBMeteorShowers.MeteorShowers\")\n",
    "\n",
    "dfmoon_phases.write.mode(\"Overwrite\")\\\n",
    "    .saveAsTable(\"dbBMeteorShowers.MoonPhases\")\n",
    "\n",
    "dfconstellations.write.mode(\"Overwrite\")\\\n",
    "    .saveAsTable(\"dbBMeteorShowers.Constellations\")\n",
    "\n",
    "dfcities.write.mode(\"Overwrite\")\\\n",
    "    .saveAsTable(\"dbBMeteorShowers.Cities\")\n"
   ]
  },
  {
   "cell_type": "markdown",
   "metadata": {},
   "source": [
    "### Explore Bronze layer information"
   ]
  },
  {
   "cell_type": "code",
   "execution_count": 20,
   "metadata": {
    "vscode": {
     "languageId": "sql"
    }
   },
   "outputs": [
    {
     "data": {
      "text/html": [
       "<table><tr style=\"border-bottom: 1px solid\"><td style=\"font-weight: bold\">city</td><td style=\"font-weight: bold\">latitude</td><td style=\"font-weight: bold\">country</td></tr><tr><td>Abu Dhabi</td><td>24.47</td><td>United Arab Emirates</td></tr><tr><td>Abuja</td><td>9.07</td><td>Nigeria</td></tr><tr><td>Accra</td><td>5.55</td><td>Ghana</td></tr><tr><td>Adamstown</td><td>-25.07</td><td>Pitcairn Islands</td></tr><tr><td>Addis Ababa</td><td>9.02</td><td>Ethiopia</td></tr></table>"
      ],
      "text/plain": [
       "<IPython.core.display.HTML object>"
      ]
     },
     "execution_count": 20,
     "metadata": {},
     "output_type": "execute_result"
    }
   ],
   "source": [
    "%%sparksql\n",
    "\n",
    "-- Explore Bronze layer information\n",
    "\n",
    "select * \n",
    "from dbBMeteorShowers.Cities\n",
    "LIMIT 5\n",
    ";\n"
   ]
  },
  {
   "cell_type": "markdown",
   "metadata": {},
   "source": [
    "## Transform data"
   ]
  },
  {
   "cell_type": "code",
   "execution_count": 21,
   "metadata": {},
   "outputs": [],
   "source": [
    "# Configure value transformation dictionary structures\n",
    "\n",
    "trfMonths = {'january':1, 'february':2, 'march':3, 'april':4, 'may':5, 'june':6, 'july':7, 'august':8, 'september':9, 'october':10, 'november':11, 'december':12}\n",
    "trfHemispheres = {'northern':0, 'southern':1, 'northern, southern':3}\n",
    "trfPhases = {'new moon':0,'third quarter':0.5, 'first quarter':0.5,'full moon':1.0}"
   ]
  },
  {
   "cell_type": "code",
   "execution_count": 22,
   "metadata": {},
   "outputs": [],
   "source": [
    "# Convert the month columns to numbers:\n",
    "\n",
    "# Create map structure for months (check List Comprehension on Python)\n",
    "mapMonths_col = create_map([lit(x) for i in trfMonths.items() for x in i])\n",
    "\n",
    "dfmeteor_showers = dfmeteor_showers.withColumn(\"bestmonthnum\", mapMonths_col[col('bestmonth')]) \\\n",
    "    .withColumn(\"startmonthnum\", mapMonths_col[col('startmonth')]) \\\n",
    "    .withColumn(\"endmonthnum\", mapMonths_col[col('endmonth')])\n",
    "\n",
    "#dfmeteor_showers.show()\n",
    "\n",
    "\n",
    "dfmoon_phases = dfmoon_phases.withColumn(\"monthnum\", mapMonths_col[col('month')])\n",
    "\n",
    "#dfmoon_phases.show()\n",
    "\n",
    "\n",
    "dfconstellations = dfconstellations.withColumn(\"bestmonthnum\", mapMonths_col[col('bestmonth')])\n",
    "\n",
    "#dfconstellations.show()\n"
   ]
  },
  {
   "cell_type": "code",
   "execution_count": 23,
   "metadata": {},
   "outputs": [
    {
     "name": "stdout",
     "output_type": "stream",
     "text": [
      "<class 'pandas.core.frame.DataFrame'>\n",
      "RangeIndex: 6 entries, 0 to 5\n",
      "Data columns (total 12 columns):\n",
      " #   Column               Non-Null Count  Dtype \n",
      "---  ------               --------------  ----- \n",
      " 0   name                 6 non-null      object\n",
      " 1   radiant              6 non-null      object\n",
      " 2   bestmonth            6 non-null      object\n",
      " 3   startmonth           6 non-null      object\n",
      " 4   startday             6 non-null      int32 \n",
      " 5   endmonth             6 non-null      object\n",
      " 6   endday               6 non-null      int32 \n",
      " 7   hemisphere           6 non-null      object\n",
      " 8   preferredhemisphere  6 non-null      object\n",
      " 9   bestmonthnum         6 non-null      int32 \n",
      " 10  startmonthnum        6 non-null      int32 \n",
      " 11  endmonthnum          6 non-null      int32 \n",
      "dtypes: int32(5), object(7)\n",
      "memory usage: 588.0+ bytes\n",
      "+------------+--------+---------+----------+--------+--------+------+------------------+-------------------+------------+-------------+-----------+\n",
      "|        name| radiant|bestmonth|startmonth|startday|endmonth|endday|        hemisphere|preferredhemisphere|bestmonthnum|startmonthnum|endmonthnum|\n",
      "+------------+--------+---------+----------+--------+--------+------+------------------+-------------------+------------+-------------+-----------+\n",
      "|      Lyrids|    Lyra|    april|     april|      21|   april|    22|          northern|           northern|           4|            4|          4|\n",
      "|Eta Aquarids|Aquarius|      may|     april|      19|     may|    28|northern, southern|           southern|           5|            4|          5|\n",
      "|    Orionids|   Orion|  october|   october|       2|november|     7|northern, southern| northern, southern|          10|           10|         11|\n",
      "|    Perseids| Perseus|   august|      july|      14|  august|    24|          northern|           northern|           8|            7|          8|\n",
      "|     Leonids|     Leo| november|  november|       6|november|    30|northern, southern| northern, southern|          11|           11|         11|\n",
      "+------------+--------+---------+----------+--------+--------+------+------------------+-------------------+------------+-------------+-----------+\n",
      "only showing top 5 rows\n",
      "\n"
     ]
    }
   ],
   "source": [
    "dfmeteor_showers.toPandas().info()\n",
    "dfmeteor_showers.show(5)"
   ]
  },
  {
   "cell_type": "code",
   "execution_count": 24,
   "metadata": {},
   "outputs": [
    {
     "name": "stdout",
     "output_type": "stream",
     "text": [
      "root\n",
      " |-- name: string (nullable = true)\n",
      " |-- radiant: string (nullable = true)\n",
      " |-- bestmonth: string (nullable = true)\n",
      " |-- startmonth: string (nullable = true)\n",
      " |-- startday: integer (nullable = true)\n",
      " |-- endmonth: string (nullable = true)\n",
      " |-- endday: integer (nullable = true)\n",
      " |-- hemisphere: string (nullable = true)\n",
      " |-- preferredhemisphere: string (nullable = true)\n",
      " |-- bestmonthnum: integer (nullable = true)\n",
      " |-- startmonthnum: integer (nullable = true)\n",
      " |-- endmonthnum: integer (nullable = true)\n",
      " |-- startdate: date (nullable = true)\n",
      " |-- enddate: date (nullable = true)\n",
      "\n",
      "+------------+--------+---------+----------+--------+--------+------+------------------+-------------------+------------+-------------+-----------+----------+----------+\n",
      "|        name| radiant|bestmonth|startmonth|startday|endmonth|endday|        hemisphere|preferredhemisphere|bestmonthnum|startmonthnum|endmonthnum| startdate|   enddate|\n",
      "+------------+--------+---------+----------+--------+--------+------+------------------+-------------------+------------+-------------+-----------+----------+----------+\n",
      "|      Lyrids|    Lyra|    april|     april|      21|   april|    22|          northern|           northern|           4|            4|          4|2020-04-21|2020-04-22|\n",
      "|Eta Aquarids|Aquarius|      may|     april|      19|     may|    28|northern, southern|           southern|           5|            4|          5|2020-04-19|2020-05-28|\n",
      "|    Orionids|   Orion|  october|   october|       2|november|     7|northern, southern| northern, southern|          10|           10|         11|2020-10-02|2020-11-07|\n",
      "|    Perseids| Perseus|   august|      july|      14|  august|    24|          northern|           northern|           8|            7|          8|2020-07-14|2020-08-24|\n",
      "|     Leonids|     Leo| november|  november|       6|november|    30|northern, southern| northern, southern|          11|           11|         11|2020-11-06|2020-11-30|\n",
      "+------------+--------+---------+----------+--------+--------+------+------------------+-------------------+------------+-------------+-----------+----------+----------+\n",
      "only showing top 5 rows\n",
      "\n"
     ]
    }
   ],
   "source": [
    "# Create two new columns: startdate and enddate. These columns will contain a month and day in 2020:\n",
    "\n",
    "dfmeteor_showers = dfmeteor_showers.withColumn(\"startdate\", to_date(lit(2020)*lit(10000)+col(\"startmonthnum\")*lit(100)+col(\"startday\"), \"yyyyMMdd\")) \\\n",
    "                .withColumn(\"enddate\", to_date(lit(2020)*lit(10000)+col(\"endmonthnum\")*lit(100)+col(\"endday\"), \"yyyyMMdd\")) \n",
    "\n",
    "# ... Or with use of SQL in expr() function:\n",
    "#dfmeteor_showers = dfmeteor_showers.withColumn(\"startdate\", expr(\"to_date(2020*10000+startmonthnum*100+startday,'yyyyMMdd')\"))\n",
    "\n",
    "dfmeteor_showers.printSchema()\n",
    "dfmeteor_showers.show(5)\n"
   ]
  },
  {
   "cell_type": "code",
   "execution_count": 25,
   "metadata": {},
   "outputs": [
    {
     "name": "stdout",
     "output_type": "stream",
     "text": [
      "root\n",
      " |-- month: string (nullable = true)\n",
      " |-- day: integer (nullable = true)\n",
      " |-- moonphase: string (nullable = true)\n",
      " |-- specialevent: string (nullable = true)\n",
      " |-- monthnum: integer (nullable = true)\n",
      " |-- date: date (nullable = true)\n",
      "\n",
      "+-------+---+-------------+------------+--------+----------+\n",
      "|  month|day|    moonphase|specialevent|monthnum|      date|\n",
      "+-------+---+-------------+------------+--------+----------+\n",
      "|january|  1|         NULL|        NULL|       1|2020-01-01|\n",
      "|january|  2|first quarter|        NULL|       1|2020-01-02|\n",
      "|january|  3|         NULL|        NULL|       1|2020-01-03|\n",
      "|january|  4|         NULL|        NULL|       1|2020-01-04|\n",
      "|january|  5|         NULL|        NULL|       1|2020-01-05|\n",
      "|january|  6|         NULL|        NULL|       1|2020-01-06|\n",
      "|january|  7|         NULL|        NULL|       1|2020-01-07|\n",
      "|january|  8|         NULL|        NULL|       1|2020-01-08|\n",
      "|january|  9|         NULL|        NULL|       1|2020-01-09|\n",
      "|january| 10|    full moon|        NULL|       1|2020-01-10|\n",
      "|january| 11|         NULL|        NULL|       1|2020-01-11|\n",
      "|january| 12|         NULL|        NULL|       1|2020-01-12|\n",
      "|january| 13|         NULL|        NULL|       1|2020-01-13|\n",
      "|january| 14|         NULL|        NULL|       1|2020-01-14|\n",
      "|january| 15|         NULL|        NULL|       1|2020-01-15|\n",
      "|january| 16|         NULL|        NULL|       1|2020-01-16|\n",
      "|january| 17|third quarter|        NULL|       1|2020-01-17|\n",
      "|january| 18|         NULL|        NULL|       1|2020-01-18|\n",
      "|january| 19|         NULL|        NULL|       1|2020-01-19|\n",
      "|january| 20|         NULL|        NULL|       1|2020-01-20|\n",
      "+-------+---+-------------+------------+--------+----------+\n",
      "only showing top 20 rows\n",
      "\n"
     ]
    }
   ],
   "source": [
    "# Follow the same pattern for moon_phases:\n",
    "\n",
    "dfmoon_phases = dfmoon_phases.withColumn(\"date\", to_date(lit(2020)*lit(10000)+col(\"monthnum\")*lit(100)+col(\"day\"), \"yyyyMMdd\"))\n",
    "\n",
    "dfmoon_phases.printSchema()\n",
    "dfmoon_phases.show()\n"
   ]
  },
  {
   "cell_type": "code",
   "execution_count": 26,
   "metadata": {},
   "outputs": [
    {
     "name": "stdout",
     "output_type": "stream",
     "text": [
      "+------------+--------+---------+----------+--------+--------+------+------------------+-------------------+------------+-------------+-----------+----------+----------+-------------+\n",
      "|        name| radiant|bestmonth|startmonth|startday|endmonth|endday|        hemisphere|preferredhemisphere|bestmonthnum|startmonthnum|endmonthnum| startdate|   enddate|hemispherenum|\n",
      "+------------+--------+---------+----------+--------+--------+------+------------------+-------------------+------------+-------------+-----------+----------+----------+-------------+\n",
      "|      Lyrids|    Lyra|    april|     april|      21|   april|    22|          northern|           northern|           4|            4|          4|2020-04-21|2020-04-22|            0|\n",
      "|Eta Aquarids|Aquarius|      may|     april|      19|     may|    28|northern, southern|           southern|           5|            4|          5|2020-04-19|2020-05-28|            3|\n",
      "|    Orionids|   Orion|  october|   october|       2|november|     7|northern, southern| northern, southern|          10|           10|         11|2020-10-02|2020-11-07|            3|\n",
      "|    Perseids| Perseus|   august|      july|      14|  august|    24|          northern|           northern|           8|            7|          8|2020-07-14|2020-08-24|            0|\n",
      "|     Leonids|     Leo| november|  november|       6|november|    30|northern, southern| northern, southern|          11|           11|         11|2020-11-06|2020-11-30|            3|\n",
      "+------------+--------+---------+----------+--------+--------+------+------------------+-------------------+------------+-------------+-----------+----------+----------+-------------+\n",
      "only showing top 5 rows\n",
      "\n",
      "+-------------+---------+-------------+-----------+-------------------+----------+------------+-------------+\n",
      "|constellation|bestmonth|latitudestart|latitudeend|           besttime|hemisphere|bestmonthnum|hemispherenum|\n",
      "+-------------+---------+-------------+-----------+-------------------+----------+------------+-------------+\n",
      "|         Lyra|   august|           90|        -40|2024-02-21 21:00:00|  northern|           8|            0|\n",
      "|     Aquarius|  october|           65|        -90|2024-02-21 21:00:00|  southern|          10|            1|\n",
      "|        Orion|  january|           85|        -75|2024-02-21 21:00:00|  northern|           1|            0|\n",
      "|      Perseus| december|           90|        -35|2024-02-21 21:00:00|  northern|          12|            0|\n",
      "|          Leo|    april|           90|         65|2024-02-21 21:00:00|  northern|           4|            0|\n",
      "+-------------+---------+-------------+-----------+-------------------+----------+------------+-------------+\n",
      "only showing top 5 rows\n",
      "\n"
     ]
    },
    {
     "data": {
      "text/plain": [
       "\" hemispheres = {'northern':0, 'southern':1, 'northern, southern':3}\\nmeteor_showers.hemisphere = meteor_showers.hemisphere.map(hemispheres)\\nconstellations.hemisphere = constellations.hemisphere.map(hemispheres) \""
      ]
     },
     "execution_count": 26,
     "metadata": {},
     "output_type": "execute_result"
    }
   ],
   "source": [
    "# Convert hemisphere data to numbers by using the mapping process:\n",
    "\n",
    "# Create map structure for Hemispheres (check List Comprehension on Python)\n",
    "mapHemispheres_col = create_map([lit(x) for i in trfHemispheres.items() for x in i])\n",
    "\n",
    "dfmeteor_showers = dfmeteor_showers.withColumn(\"hemispherenum\", mapHemispheres_col[col('hemisphere')])\n",
    "\n",
    "dfconstellations = dfconstellations.withColumn(\"hemispherenum\", mapHemispheres_col[col('hemisphere')])\n",
    "\n",
    "dfmeteor_showers.show(5)\n",
    "dfconstellations.show(5)\n",
    "\n",
    "\n",
    "\"\"\" hemispheres = {'northern':0, 'southern':1, 'northern, southern':3}\n",
    "meteor_showers.hemisphere = meteor_showers.hemisphere.map(hemispheres)\n",
    "constellations.hemisphere = constellations.hemisphere.map(hemispheres) \"\"\""
   ]
  },
  {
   "cell_type": "code",
   "execution_count": 27,
   "metadata": {},
   "outputs": [
    {
     "name": "stdout",
     "output_type": "stream",
     "text": [
      "+-------+---+-------------+------------+--------+----------+----------+\n",
      "|  month|day|    moonphase|specialevent|monthnum|      date|percentage|\n",
      "+-------+---+-------------+------------+--------+----------+----------+\n",
      "|january|  1|         NULL|        NULL|       1|2020-01-01|      NULL|\n",
      "|january|  2|first quarter|        NULL|       1|2020-01-02|       0.5|\n",
      "|january|  3|         NULL|        NULL|       1|2020-01-03|      NULL|\n",
      "|january|  4|         NULL|        NULL|       1|2020-01-04|      NULL|\n",
      "|january|  5|         NULL|        NULL|       1|2020-01-05|      NULL|\n",
      "|january|  6|         NULL|        NULL|       1|2020-01-06|      NULL|\n",
      "|january|  7|         NULL|        NULL|       1|2020-01-07|      NULL|\n",
      "|january|  8|         NULL|        NULL|       1|2020-01-08|      NULL|\n",
      "|january|  9|         NULL|        NULL|       1|2020-01-09|      NULL|\n",
      "|january| 10|    full moon|        NULL|       1|2020-01-10|       1.0|\n",
      "|january| 11|         NULL|        NULL|       1|2020-01-11|      NULL|\n",
      "|january| 12|         NULL|        NULL|       1|2020-01-12|      NULL|\n",
      "|january| 13|         NULL|        NULL|       1|2020-01-13|      NULL|\n",
      "|january| 14|         NULL|        NULL|       1|2020-01-14|      NULL|\n",
      "|january| 15|         NULL|        NULL|       1|2020-01-15|      NULL|\n",
      "|january| 16|         NULL|        NULL|       1|2020-01-16|      NULL|\n",
      "|january| 17|third quarter|        NULL|       1|2020-01-17|       0.5|\n",
      "|january| 18|         NULL|        NULL|       1|2020-01-18|      NULL|\n",
      "|january| 19|         NULL|        NULL|       1|2020-01-19|      NULL|\n",
      "|january| 20|         NULL|        NULL|       1|2020-01-20|      NULL|\n",
      "+-------+---+-------------+------------+--------+----------+----------+\n",
      "only showing top 20 rows\n",
      "\n"
     ]
    }
   ],
   "source": [
    "# Convert Moon phases to numbers that represent the percentage of the Moon that's visible\n",
    "\n",
    "# Create map structure for Moon phases (check List Comprehension on Python)\n",
    "mapPhases_col = create_map([lit(x) for i in trfPhases.items() for x in i])\n",
    "\n",
    "dfmoon_phases = dfmoon_phases.withColumn(\"percentage\", mapPhases_col[col('moonphase')])\n",
    "\n",
    "dfmoon_phases.show()\n"
   ]
  },
  {
   "cell_type": "code",
   "execution_count": 28,
   "metadata": {},
   "outputs": [
    {
     "name": "stdout",
     "output_type": "stream",
     "text": [
      "+------------+--------+---------+-------------------+------------+-------------+-----------+----------+----------+-------------+\n",
      "|        name| radiant|bestmonth|preferredhemisphere|bestmonthnum|startmonthnum|endmonthnum| startdate|   enddate|hemispherenum|\n",
      "+------------+--------+---------+-------------------+------------+-------------+-----------+----------+----------+-------------+\n",
      "|      Lyrids|    Lyra|    april|           northern|           4|            4|          4|2020-04-21|2020-04-22|            0|\n",
      "|Eta Aquarids|Aquarius|      may|           southern|           5|            4|          5|2020-04-19|2020-05-28|            3|\n",
      "|    Orionids|   Orion|  october| northern, southern|          10|           10|         11|2020-10-02|2020-11-07|            3|\n",
      "|    Perseids| Perseus|   august|           northern|           8|            7|          8|2020-07-14|2020-08-24|            0|\n",
      "|     Leonids|     Leo| november| northern, southern|          11|           11|         11|2020-11-06|2020-11-30|            3|\n",
      "+------------+--------+---------+-------------------+------------+-------------+-----------+----------+----------+-------------+\n",
      "only showing top 5 rows\n",
      "\n",
      "+--------+----------+----------+\n",
      "|monthnum|      date|percentage|\n",
      "+--------+----------+----------+\n",
      "|       1|2020-01-01|      NULL|\n",
      "|       1|2020-01-02|       0.5|\n",
      "|       1|2020-01-03|      NULL|\n",
      "|       1|2020-01-04|      NULL|\n",
      "|       1|2020-01-05|      NULL|\n",
      "+--------+----------+----------+\n",
      "only showing top 5 rows\n",
      "\n",
      "+-------------+---------+-------------+-----------+----------+------------+-------------+\n",
      "|constellation|bestmonth|latitudestart|latitudeend|hemisphere|bestmonthnum|hemispherenum|\n",
      "+-------------+---------+-------------+-----------+----------+------------+-------------+\n",
      "|         Lyra|   august|           90|        -40|  northern|           8|            0|\n",
      "|     Aquarius|  october|           65|        -90|  southern|          10|            1|\n",
      "|        Orion|  january|           85|        -75|  northern|           1|            0|\n",
      "|      Perseus| december|           90|        -35|  northern|          12|            0|\n",
      "|          Leo|    april|           90|         65|  northern|           4|            0|\n",
      "+-------------+---------+-------------+-----------+----------+------------+-------------+\n",
      "only showing top 5 rows\n",
      "\n"
     ]
    }
   ],
   "source": [
    "# Remove unnecessary data\n",
    "dfmeteor_showers = dfmeteor_showers.drop(\"startmonth\", \"startday\", \"endmonth\", \"endday\", \"hemisphere\")\n",
    "dfmoon_phases = dfmoon_phases.drop(\"month\",\"day\",\"moonphase\",\"specialevent\")\n",
    "dfconstellations = dfconstellations.drop(\"besttime\")\n",
    "\n",
    "dfmeteor_showers.show(5)\n",
    "dfmoon_phases.show(5)\n",
    "dfconstellations.show(5)"
   ]
  },
  {
   "cell_type": "code",
   "execution_count": 29,
   "metadata": {},
   "outputs": [
    {
     "name": "stdout",
     "output_type": "stream",
     "text": [
      "+--------+----------+----------+----------+\n",
      "|  id_Aux|   id_From|     id_TO|percentage|\n",
      "+--------+----------+----------+----------+\n",
      "|20200117|2020-01-10|2020-01-16|       1.0|\n",
      "|20200124|2020-01-17|2020-01-23|       0.5|\n",
      "|20200201|2020-01-24|2020-01-31|       0.0|\n",
      "|20200208|2020-02-01|2020-02-07|       0.5|\n",
      "|20200215|2020-02-08|2020-02-14|       1.0|\n",
      "|20200223|2020-02-15|2020-02-22|       0.5|\n",
      "|20200302|2020-02-23|2020-03-01|       0.0|\n",
      "|20200309|2020-03-02|2020-03-08|       0.5|\n",
      "|20200316|2020-03-09|2020-03-15|       1.0|\n",
      "|20200324|2020-03-16|2020-03-23|       0.5|\n",
      "|20200401|2020-03-24|2020-03-31|       0.0|\n",
      "|20200407|2020-04-01|2020-04-06|       0.5|\n",
      "|20200414|2020-04-07|2020-04-13|       1.0|\n",
      "|20200422|2020-04-14|2020-04-21|       0.5|\n",
      "|20200430|2020-04-22|2020-04-29|       0.0|\n",
      "|20200507|2020-04-30|2020-05-06|       0.5|\n",
      "|20200514|2020-05-07|2020-05-13|       1.0|\n",
      "|20200522|2020-05-14|2020-05-21|       0.5|\n",
      "|20200529|2020-05-22|2020-05-28|       0.0|\n",
      "|20200605|2020-05-29|2020-06-04|       0.5|\n",
      "+--------+----------+----------+----------+\n",
      "only showing top 20 rows\n",
      "\n",
      "root\n",
      " |-- percentage: double (nullable = true)\n",
      " |-- date: date (nullable = false)\n",
      " |-- DateID: integer (nullable = true)\n",
      " |-- monthnum: integer (nullable = false)\n",
      "\n",
      "+----------+----------+--------+--------+\n",
      "|percentage|      date|  DateID|monthnum|\n",
      "+----------+----------+--------+--------+\n",
      "|       0.0|2020-01-01|20200101|       1|\n",
      "|       0.5|2020-01-02|20200102|       1|\n",
      "|       0.5|2020-01-03|20200103|       1|\n",
      "|       0.5|2020-01-04|20200104|       1|\n",
      "|       0.5|2020-01-05|20200105|       1|\n",
      "|       0.5|2020-01-06|20200106|       1|\n",
      "|       0.5|2020-01-07|20200107|       1|\n",
      "|       0.5|2020-01-08|20200108|       1|\n",
      "|       0.5|2020-01-09|20200109|       1|\n",
      "|       1.0|2020-01-10|20200110|       1|\n",
      "|       1.0|2020-01-11|20200111|       1|\n",
      "|       1.0|2020-01-12|20200112|       1|\n",
      "|       1.0|2020-01-13|20200113|       1|\n",
      "|       1.0|2020-01-14|20200114|       1|\n",
      "|       1.0|2020-01-15|20200115|       1|\n",
      "|       1.0|2020-01-16|20200116|       1|\n",
      "|       0.5|2020-01-17|20200117|       1|\n",
      "|       0.5|2020-01-18|20200118|       1|\n",
      "|       0.5|2020-01-19|20200119|       1|\n",
      "|       0.5|2020-01-20|20200120|       1|\n",
      "+----------+----------+--------+--------+\n",
      "only showing top 20 rows\n",
      "\n"
     ]
    }
   ],
   "source": [
    "# Figuring out a more accurate percentage for moon_phases:\n",
    "\n",
    "# 1.Create a variable to save the last phase that you saw.\n",
    "# 2.Loop through each row and column in the moon_phases DataFrame.\n",
    "# 3.If the value in the percentage column of a row is NaN (null), then replace it with the last phase that you saw.\n",
    "# 4.If the value isn't NaN, then save the value as the last phase that you saw.\n",
    "\n",
    "\n",
    "#dfmoon_phases.show(5)\n",
    "\n",
    "# Generate ID integer key column from date\n",
    "dfmoon_phases = dfmoon_phases.withColumn(\"id\",2020*10000+month(\"date\")*100+dayofmonth(\"date\")) \n",
    "\n",
    "dfmoon_phases.createOrReplaceTempView(\"stage_moon_phases\")\n",
    "dfmoon_phases = spark.sql( \\\n",
    "    \" With univ as ( \\\n",
    "    select \\\n",
    "        id as id_Aux, \\\n",
    "        LAG(id, 1,0) OVER (ORDER BY id) AS id_From, \\\n",
    "        (id) as id_TO, \\\n",
    "        LAG(percentage, 1,0) OVER (ORDER BY id) AS PreviousPct \\\n",
    "    from stage_moon_phases \\\n",
    "    where ifnull(percentage,-1) >= 0 \\\n",
    "    and  1=1)\\\n",
    "    Select \\\n",
    "        id_Aux, \\\n",
    "        CASE \\\n",
    "            WHEN id_From = 0 then (to_date(id_TO,'yyyyMMdd') - INTERVAL 1 day)  \\\n",
    "            ELSE to_date(id_From,'yyyyMMdd') \\\n",
    "        END as id_From, \\\n",
    "        (to_date(id_TO,'yyyyMMdd') - INTERVAL 1 day) as id_TO, \\\n",
    "        PreviousPct as percentage \\\n",
    "    from univ\" \\\n",
    "     )\n",
    "\n",
    "dfmoon_phases.where(col(\"id_Aux\") >= \"20200116\" ) \\\n",
    "    .show()\n",
    "\n",
    "dfmoon_phases = dfmoon_phases.withColumn('day_seq', expr(\"sequence(id_From, id_TO, interval 1 day)\")) \\\n",
    "    .withColumn(\"date\",expr(\"explode(day_seq)\")) \\\n",
    "    .withColumn(\"DateID\",date_format(col(\"date\"),\"yyyyMMdd\").cast(IntegerType())) \\\n",
    "    .withColumn(\"monthnum\",month(col(\"date\"))) \\\n",
    "    .orderBy(\"DateID\") \\\n",
    "    .drop(\"day_seq\",\"id_Aux\",\"id_From\",\"id_TO\")\n",
    "\n",
    "dfmoon_phases.printSchema()\n",
    "dfmoon_phases.show()\n"
   ]
  },
  {
   "cell_type": "markdown",
   "metadata": {},
   "source": [
    " ## Load Tranformed data to Silver Layer"
   ]
  },
  {
   "cell_type": "code",
   "execution_count": 30,
   "metadata": {},
   "outputs": [],
   "source": [
    "# Write to (managed) tables on dbMeteorShowers database\n",
    "\n",
    "dfmoon_phases.write.mode(\"Overwrite\")\\\n",
    "    .saveAsTable(\"dbsMeteorShowers.MoonPhases\")\n"
   ]
  },
  {
   "cell_type": "markdown",
   "metadata": {},
   "source": [
    "### Explore Silver layer information"
   ]
  },
  {
   "cell_type": "code",
   "execution_count": 31,
   "metadata": {
    "vscode": {
     "languageId": "sql"
    }
   },
   "outputs": [
    {
     "data": {
      "text/html": [
       "<table><tr style=\"border-bottom: 1px solid\"><td style=\"font-weight: bold\">percentage</td><td style=\"font-weight: bold\">date</td><td style=\"font-weight: bold\">DateID</td><td style=\"font-weight: bold\">monthnum</td></tr><tr><td>1.0</td><td>2020-01-16</td><td>20200116</td><td>1</td></tr><tr><td>0.5</td><td>2020-01-17</td><td>20200117</td><td>1</td></tr><tr><td>0.5</td><td>2020-01-18</td><td>20200118</td><td>1</td></tr><tr><td>0.5</td><td>2020-01-19</td><td>20200119</td><td>1</td></tr><tr><td>0.5</td><td>2020-01-20</td><td>20200120</td><td>1</td></tr><tr><td>0.5</td><td>2020-01-21</td><td>20200121</td><td>1</td></tr><tr><td>0.5</td><td>2020-01-22</td><td>20200122</td><td>1</td></tr><tr><td>0.5</td><td>2020-01-23</td><td>20200123</td><td>1</td></tr><tr><td>0.0</td><td>2020-01-24</td><td>20200124</td><td>1</td></tr><tr><td>0.0</td><td>2020-01-25</td><td>20200125</td><td>1</td></tr><tr><td>0.0</td><td>2020-01-26</td><td>20200126</td><td>1</td></tr><tr><td>0.0</td><td>2020-01-27</td><td>20200127</td><td>1</td></tr><tr><td>0.0</td><td>2020-01-28</td><td>20200128</td><td>1</td></tr><tr><td>0.0</td><td>2020-01-29</td><td>20200129</td><td>1</td></tr><tr><td>0.0</td><td>2020-01-30</td><td>20200130</td><td>1</td></tr><tr><td>0.0</td><td>2020-01-31</td><td>20200131</td><td>1</td></tr><tr><td>0.5</td><td>2020-02-01</td><td>20200201</td><td>2</td></tr><tr><td>0.5</td><td>2020-02-02</td><td>20200202</td><td>2</td></tr><tr><td>0.5</td><td>2020-02-03</td><td>20200203</td><td>2</td></tr><tr><td>0.5</td><td>2020-02-04</td><td>20200204</td><td>2</td></tr></table>"
      ],
      "text/plain": [
       "<IPython.core.display.HTML object>"
      ]
     },
     "execution_count": 31,
     "metadata": {},
     "output_type": "execute_result"
    }
   ],
   "source": [
    "%%sparksql\n",
    "\n",
    "-- Explore Silver layer information\n",
    "\n",
    "select * \n",
    "from dbsMeteorShowers.MoonPhases\n",
    "where DateID >= 20200116\n",
    "LIMIT 20\n",
    ";\n"
   ]
  },
  {
   "cell_type": "markdown",
   "metadata": {},
   "source": [
    "# Exercise - Write a predictor function - Part 1"
   ]
  },
  {
   "cell_type": "markdown",
   "metadata": {},
   "source": [
    "### Review our four datasets"
   ]
  },
  {
   "cell_type": "code",
   "execution_count": 32,
   "metadata": {
    "vscode": {
     "languageId": "sql"
    }
   },
   "outputs": [
    {
     "name": "stdout",
     "output_type": "stream",
     "text": [
      "root\n",
      " |-- name: string (nullable = true)\n",
      " |-- radiant: string (nullable = true)\n",
      " |-- bestmonth: string (nullable = true)\n",
      " |-- preferredhemisphere: string (nullable = true)\n",
      " |-- bestmonthnum: integer (nullable = true)\n",
      " |-- startmonthnum: integer (nullable = true)\n",
      " |-- endmonthnum: integer (nullable = true)\n",
      " |-- startdate: date (nullable = true)\n",
      " |-- enddate: date (nullable = true)\n",
      " |-- hemispherenum: integer (nullable = true)\n",
      "\n",
      "+------------+--------+---------+-------------------+------------+-------------+-----------+----------+----------+-------------+\n",
      "|        name| radiant|bestmonth|preferredhemisphere|bestmonthnum|startmonthnum|endmonthnum| startdate|   enddate|hemispherenum|\n",
      "+------------+--------+---------+-------------------+------------+-------------+-----------+----------+----------+-------------+\n",
      "|      Lyrids|    Lyra|    april|           northern|           4|            4|          4|2020-04-21|2020-04-22|            0|\n",
      "|Eta Aquarids|Aquarius|      may|           southern|           5|            4|          5|2020-04-19|2020-05-28|            3|\n",
      "|    Orionids|   Orion|  october| northern, southern|          10|           10|         11|2020-10-02|2020-11-07|            3|\n",
      "|    Perseids| Perseus|   august|           northern|           8|            7|          8|2020-07-14|2020-08-24|            0|\n",
      "|     Leonids|     Leo| november| northern, southern|          11|           11|         11|2020-11-06|2020-11-30|            3|\n",
      "+------------+--------+---------+-------------------+------------+-------------+-----------+----------+----------+-------------+\n",
      "only showing top 5 rows\n",
      "\n"
     ]
    }
   ],
   "source": [
    "dfmeteor_showers.printSchema()\n",
    "dfmeteor_showers.show(5)"
   ]
  },
  {
   "cell_type": "code",
   "execution_count": 33,
   "metadata": {
    "vscode": {
     "languageId": "sql"
    }
   },
   "outputs": [
    {
     "name": "stdout",
     "output_type": "stream",
     "text": [
      "root\n",
      " |-- percentage: double (nullable = true)\n",
      " |-- date: date (nullable = false)\n",
      " |-- DateID: integer (nullable = true)\n",
      " |-- monthnum: integer (nullable = false)\n",
      "\n"
     ]
    }
   ],
   "source": [
    "dfmoon_phases.printSchema()"
   ]
  },
  {
   "cell_type": "code",
   "execution_count": 34,
   "metadata": {
    "vscode": {
     "languageId": "sql"
    }
   },
   "outputs": [
    {
     "name": "stdout",
     "output_type": "stream",
     "text": [
      "root\n",
      " |-- city: string (nullable = true)\n",
      " |-- latitude: double (nullable = true)\n",
      " |-- country: string (nullable = true)\n",
      "\n"
     ]
    }
   ],
   "source": [
    "dfcities.printSchema()"
   ]
  },
  {
   "cell_type": "code",
   "execution_count": 35,
   "metadata": {
    "vscode": {
     "languageId": "sql"
    }
   },
   "outputs": [
    {
     "name": "stdout",
     "output_type": "stream",
     "text": [
      "root\n",
      " |-- constellation: string (nullable = true)\n",
      " |-- bestmonth: string (nullable = true)\n",
      " |-- latitudestart: integer (nullable = true)\n",
      " |-- latitudeend: integer (nullable = true)\n",
      " |-- hemisphere: string (nullable = true)\n",
      " |-- bestmonthnum: integer (nullable = true)\n",
      " |-- hemispherenum: integer (nullable = true)\n",
      "\n"
     ]
    }
   ],
   "source": [
    "dfconstellations.printSchema()"
   ]
  },
  {
   "cell_type": "markdown",
   "metadata": {},
   "source": [
    "## Determine the latitude"
   ]
  },
  {
   "cell_type": "code",
   "execution_count": 36,
   "metadata": {},
   "outputs": [],
   "source": [
    "# Create a function called predict_best_meteor_shower_viewing that takes in a city as a parameter:\n",
    "\n",
    "def predict_best_meteor_shower_viewing(city):\n",
    "    # Get the latitude of the city from the cities DataFrame\n",
    "    latitude = dfcities.select(\"latitude\").where(col(\"city\") == city).collect()[0][0]\n",
    "\n",
    "    return latitude\n"
   ]
  },
  {
   "cell_type": "code",
   "execution_count": 37,
   "metadata": {},
   "outputs": [
    {
     "name": "stdout",
     "output_type": "stream",
     "text": [
      "24.47\n"
     ]
    }
   ],
   "source": [
    "# Call the function\n",
    "\n",
    "print(predict_best_meteor_shower_viewing('Abu Dhabi'))"
   ]
  },
  {
   "cell_type": "markdown",
   "metadata": {},
   "source": [
    "# Exercise - Write a predictor function - Part 2"
   ]
  },
  {
   "cell_type": "code",
   "execution_count": 38,
   "metadata": {},
   "outputs": [],
   "source": [
    "# Use latitude to determine constellation\n",
    "\n",
    "def predict_best_meteor_shower_viewing(city):\n",
    "    # Get the latitude of the city from the cities DataFrame\n",
    "    latitude = lit(dfcities.select(\"latitude\").where(col(\"city\") == city).collect()[0][0])\n",
    "    \n",
    "    # Get the list of constellations that are viewable from that latitude\n",
    "    constellation_list = dfconstellations.select(\"constellation\") \\\n",
    "        .where((col(\"latitudestart\") >= round(latitude,0)) & (col(\"latitudeend\") < round(latitude,0)))\\\n",
    "        .collect()\n",
    "    \n",
    "    return constellation_list\n"
   ]
  },
  {
   "cell_type": "code",
   "execution_count": 39,
   "metadata": {},
   "outputs": [
    {
     "name": "stdout",
     "output_type": "stream",
     "text": [
      "[Row(constellation='Lyra'), Row(constellation='Aquarius'), Row(constellation='Orion'), Row(constellation='Perseus'), Row(constellation='Draco')]\n"
     ]
    }
   ],
   "source": [
    "# Print the constellation list\n",
    "print(predict_best_meteor_shower_viewing('Abu Dhabi'))"
   ]
  },
  {
   "cell_type": "code",
   "execution_count": 40,
   "metadata": {},
   "outputs": [],
   "source": [
    "# Create an output string\n",
    "\n",
    "def predict_best_meteor_shower_viewing(city):\n",
    "\n",
    "    # Create an empty string to return the message back to the user\n",
    "    meteor_shower_string = \"\"\n",
    "\n",
    "    cities = dfcities.where(col(\"city\") == lit(city)).collect()\n",
    "\n",
    "    if len(cities) == 0:\n",
    "        meteor_shower_string = \"Unfortunately, \" + city + \" isn't available for a prediction at this time.\"\n",
    "        return meteor_shower_string\n",
    "\n",
    "    # Get the latitude of the city from the cities DataFrame\n",
    "    latitude = lit(dfcities.select(\"latitude\").where(col(\"city\") == city).collect()[0][0])\n",
    "    \n",
    "    # Get the list of constellations that are viewable from that latitude\n",
    "    constellation_list = dfconstellations.select(\"constellation\") \\\n",
    "        .where((col(\"latitudestart\") >= round(latitude,0)) & (col(\"latitudeend\") < round(latitude,0)))\\\n",
    "        .collect()\n",
    "    \n",
    "    # If no constellations are viewable, let the user know\n",
    "    if not constellation_list:\n",
    "        meteor_shower_string = \"Unfortunately, there are no meteor showers viewable from \"+ city + \".\"\n",
    "\n",
    "        return meteor_shower_string\n"
   ]
  },
  {
   "cell_type": "code",
   "execution_count": 41,
   "metadata": {},
   "outputs": [
    {
     "name": "stdout",
     "output_type": "stream",
     "text": [
      "Unfortunately, San Diego isn't available for a prediction at this time.\n",
      "None\n"
     ]
    }
   ],
   "source": [
    "print(predict_best_meteor_shower_viewing('San Diego'))\n",
    "\n",
    "print(predict_best_meteor_shower_viewing('Abu Dhabi'))"
   ]
  },
  {
   "cell_type": "code",
   "execution_count": 42,
   "metadata": {},
   "outputs": [
    {
     "name": "stdout",
     "output_type": "stream",
     "text": [
      "+----------+----------+\n",
      "|percentage|      date|\n",
      "+----------+----------+\n",
      "|       0.0|2020-01-01|\n",
      "|       0.5|2020-01-02|\n",
      "|       1.0|2020-01-10|\n",
      "+----------+----------+\n",
      "\n",
      "+----------+----------+\n",
      "|      date|percentage|\n",
      "+----------+----------+\n",
      "|2020-04-19|       0.5|\n",
      "|2020-04-20|       0.5|\n",
      "|2020-04-21|       0.5|\n",
      "|2020-04-22|       0.0|\n",
      "|2020-04-23|       0.0|\n",
      "|2020-04-24|       0.0|\n",
      "|2020-04-25|       0.0|\n",
      "|2020-04-26|       0.0|\n",
      "|2020-04-27|       0.0|\n",
      "|2020-04-28|       0.0|\n",
      "|2020-04-29|       0.0|\n",
      "|2020-04-30|       0.5|\n",
      "|2020-05-01|       0.5|\n",
      "|2020-05-02|       0.5|\n",
      "|2020-05-03|       0.5|\n",
      "|2020-05-04|       0.5|\n",
      "|2020-05-05|       0.5|\n",
      "|2020-05-06|       0.5|\n",
      "|2020-05-07|       1.0|\n",
      "|2020-05-08|       1.0|\n",
      "+----------+----------+\n",
      "only showing top 20 rows\n",
      "\n",
      "+----------+----------+\n",
      "|percentage|      date|\n",
      "+----------+----------+\n",
      "|       0.5|2020-04-19|\n",
      "|       0.0|2020-04-22|\n",
      "|       1.0|2020-05-07|\n",
      "+----------+----------+\n",
      "\n",
      "Column<'DATE '2020-04-19''>\n"
     ]
    }
   ],
   "source": [
    "tstConstellation = \"Aquarius\"\n",
    "\n",
    "dfTstMeteor_Shower = dfmeteor_showers.select(\"name\",\"startdate\",\"enddate\").where(col(\"radiant\") == lit(tstConstellation))\n",
    "\n",
    "#dfTstMeteor_Shower.show()\n",
    "\n",
    "tstmeteor_shower = lit(dfTstMeteor_Shower.select(\"name\").collect()[0].name)\n",
    "tstmeteor_shower_startdate = lit(dfTstMeteor_Shower.select(\"startdate\").collect()[0].startdate)\n",
    "tstmeteor_shower_enddate = lit(dfTstMeteor_Shower.select(\"enddate\").collect()[0].enddate)\n",
    "\n",
    "\"\"\" print(tstmeteor_shower[0].name)\n",
    "print(tstmeteor_shower_startdate[0].startdate)\n",
    "print(tstmeteor_shower_enddate[0].startdate) \"\"\"\n",
    "\n",
    "\n",
    "dftest = dfmoon_phases.groupBy(\"percentage\").agg(_min(\"date\")).withColumnRenamed(\"min(date)\", \"date\")\n",
    "dftest.show()\n",
    "\n",
    "dftest2 = dfmoon_phases.select(\"date\", \"percentage\")  \\\n",
    "            .where((col(\"date\") >= lit(tstmeteor_shower_startdate)) & (col(\"date\") < lit(tstmeteor_shower_enddate)))\n",
    "dftest2.show()\n",
    "\n",
    "\n",
    "dftest3 = dftest2.groupBy(\"percentage\").agg(_min(\"date\")).withColumnRenamed(\"min(date)\", \"date\")  \\\n",
    "            .where((col(\"date\") >= lit(tstmeteor_shower_startdate)) & (col(\"date\") < lit(tstmeteor_shower_enddate)))\n",
    "dftest3.show()\n",
    "\n",
    "\n",
    "# Find the first date where the Moon is the least visible\n",
    "tstbest_moon_date = lit(dftest3.select(\"date\").collect()[0][0])\n",
    "\n",
    "print(tstbest_moon_date)\n"
   ]
  },
  {
   "cell_type": "code",
   "execution_count": 43,
   "metadata": {},
   "outputs": [],
   "source": [
    "# Final code\n",
    "\n",
    "def predict_best_meteor_shower_viewing(city):\n",
    "\n",
    "# Create an empty string to return the message back to the user\n",
    "\n",
    "    meteor_shower_string = \"\"\n",
    "\n",
    "    cities = dfcities.where(col(\"city\") == lit(city)).collect()\n",
    "\n",
    "    if len(cities) == 0:\n",
    "        meteor_shower_string = \"Unfortunately, \" + city + \" isn't available for a prediction at this time. \\n\"\n",
    "        return meteor_shower_string\n",
    "\n",
    "    # Get the latitude of the city from the cities DataFrame\n",
    "    latitude = lit(dfcities.select(\"latitude\").where(col(\"city\") == city).collect()[0][0])\n",
    "\n",
    "    # Get the list of constellations that are viewable from that latitude\n",
    "    constellation_list = dfconstellations.select(\"constellation\") \\\n",
    "        .where((col(\"latitudestart\") >= round(latitude,0)) & (col(\"latitudeend\") < round(latitude,0)))\\\n",
    "        .collect()\n",
    "\n",
    "    # If no constellations are viewable, let the user know\n",
    "    if not constellation_list:\n",
    "        meteor_shower_string = \"Unfortunately, there are no meteor showers viewable from \"+ city + \".\"\n",
    "\n",
    "        return meteor_shower_string\n",
    "\n",
    "    meteor_shower_string = \"In \" + city + \" you can see the following meteor showers:\\n\"\n",
    "\n",
    "     # Iterate through each constellation that is viewable from the city\n",
    "    for constellation in constellation_list:\n",
    "        \n",
    "        # Find the meteor shower that is nearest to that constellation and its related start and end dates\n",
    "        dfAuxMeteor_Shower = dfmeteor_showers.select(\"name\",\"startdate\",\"enddate\").where(col(\"radiant\") == constellation['constellation'])\n",
    "\n",
    "        meteor_shower = dfAuxMeteor_Shower.select(\"name\").collect()[0].name\n",
    "        meteor_shower_startdate = dfAuxMeteor_Shower.select(\"startdate\").collect()[0].startdate\n",
    "        meteor_shower_enddate = dfAuxMeteor_Shower.select(\"enddate\").collect()[0].enddate\n",
    "\n",
    "        # Find the Moon phases for each date within the viewable time frame of that meteor shower\n",
    "        dfAuxMoon_phases_1 = dfmoon_phases.select(\"date\", \"percentage\")  \\\n",
    "            .where((col(\"date\") >= lit(meteor_shower_startdate)) & (col(\"date\") <= lit(meteor_shower_enddate)))\n",
    "        \n",
    "        dfAuxMoon_phases_2 = dfAuxMoon_phases_1.select(\"percentage\",expr(\"date_format(date,'dd MMMM yyyy')\")) \\\n",
    "            .orderBy(\"percentage\") \\\n",
    "            .withColumnRenamed(\"date_format(date, dd MMMM yyyy)\",\"dateStr\") \\\n",
    "            .first()\n",
    "\n",
    "        # Find the first date where the Moon is the least visible (conerts the date output to formatted string)\n",
    "        best_moon_date = dfAuxMoon_phases_2.dateStr\n",
    "        \n",
    "    \n",
    "        # Add that date to the string to report back to the user\n",
    "        meteor_shower_string += \"\\t\" + meteor_shower + \" is best seen if you look towards the \" + \\\n",
    "                                constellation[0] + \" constellation on \" +  \\\n",
    "                                best_moon_date + \"\\n\"\n",
    "\n",
    "    return meteor_shower_string\n",
    "\n"
   ]
  },
  {
   "cell_type": "code",
   "execution_count": 44,
   "metadata": {},
   "outputs": [
    {
     "name": "stdout",
     "output_type": "stream",
     "text": [
      "In Abu Dhabi you can see the following meteor showers:\n",
      "\tLyrids is best seen if you look towards the Lyra constellation on 22 April 2020\n",
      "\tEta Aquarids is best seen if you look towards the Aquarius constellation on 22 April 2020\n",
      "\tOrionids is best seen if you look towards the Orion constellation on 16 October 2020\n",
      "\tPerseids is best seen if you look towards the Perseus constellation on 20 July 2020\n",
      "\tChang'e is best seen if you look towards the Draco constellation on 16 October 2020\n",
      "\n",
      "Unfortunately, San Diego isn't available for a prediction at this time. \n",
      "\n",
      "In Amsterdam you can see the following meteor showers:\n",
      "\tLyrids is best seen if you look towards the Lyra constellation on 22 April 2020\n",
      "\tEta Aquarids is best seen if you look towards the Aquarius constellation on 22 April 2020\n",
      "\tOrionids is best seen if you look towards the Orion constellation on 16 October 2020\n",
      "\tPerseids is best seen if you look towards the Perseus constellation on 20 July 2020\n",
      "\tChang'e is best seen if you look towards the Draco constellation on 16 October 2020\n",
      "\n"
     ]
    }
   ],
   "source": [
    "print(predict_best_meteor_shower_viewing('Abu Dhabi'))\n",
    "print(predict_best_meteor_shower_viewing('San Diego'))\n",
    "print(predict_best_meteor_shower_viewing('Amsterdam'))"
   ]
  },
  {
   "cell_type": "markdown",
   "metadata": {},
   "source": [
    "### Test Area"
   ]
  },
  {
   "cell_type": "code",
   "execution_count": 45,
   "metadata": {
    "vscode": {
     "languageId": "sql"
    }
   },
   "outputs": [
    {
     "data": {
      "text/html": [
       "<table><tr style=\"border-bottom: 1px solid\"><td style=\"font-weight: bold\">name</td><td style=\"font-weight: bold\">radiant</td><td style=\"font-weight: bold\">bestmonth</td><td style=\"font-weight: bold\">startmonth</td><td style=\"font-weight: bold\">startday</td><td style=\"font-weight: bold\">endmonth</td><td style=\"font-weight: bold\">endday</td><td style=\"font-weight: bold\">hemisphere</td><td style=\"font-weight: bold\">preferredhemisphere</td></tr><tr><td>Lyrids</td><td>Lyra</td><td>april</td><td>april</td><td>21</td><td>april</td><td>22</td><td>northern</td><td>northern</td></tr></table>"
      ],
      "text/plain": [
       "<IPython.core.display.HTML object>"
      ]
     },
     "execution_count": 45,
     "metadata": {},
     "output_type": "execute_result"
    }
   ],
   "source": [
    "%%sparksql\n",
    "\n",
    "select * \n",
    "from dbbMeteorShowers.MeteorShowers\n",
    "where radiant = 'Lyra'\n",
    "LIMIT 20\n",
    ";\n"
   ]
  },
  {
   "cell_type": "code",
   "execution_count": 46,
   "metadata": {
    "vscode": {
     "languageId": "sql"
    }
   },
   "outputs": [
    {
     "data": {
      "text/html": [
       "<table><tr style=\"border-bottom: 1px solid\"><td style=\"font-weight: bold\">month</td><td style=\"font-weight: bold\">day</td><td style=\"font-weight: bold\">moonphase</td><td style=\"font-weight: bold\">specialevent</td></tr><tr><td>april</td><td>15</td><td>null</td><td>null</td></tr><tr><td>april</td><td>16</td><td>null</td><td>null</td></tr><tr><td>april</td><td>17</td><td>null</td><td>null</td></tr><tr><td>april</td><td>18</td><td>null</td><td>null</td></tr><tr><td>april</td><td>19</td><td>null</td><td>null</td></tr><tr><td>april</td><td>20</td><td>null</td><td>null</td></tr><tr><td>april</td><td>21</td><td>null</td><td>null</td></tr><tr><td>april</td><td>22</td><td>new moon</td><td>null</td></tr><tr><td>april</td><td>23</td><td>null</td><td>null</td></tr><tr><td>april</td><td>24</td><td>null</td><td>null</td></tr><tr><td>april</td><td>25</td><td>null</td><td>null</td></tr><tr><td>april</td><td>26</td><td>null</td><td>null</td></tr><tr><td>april</td><td>27</td><td>null</td><td>null</td></tr><tr><td>april</td><td>28</td><td>null</td><td>null</td></tr><tr><td>april</td><td>29</td><td>null</td><td>null</td></tr><tr><td>april</td><td>30</td><td>first quarter</td><td>null</td></tr></table>"
      ],
      "text/plain": [
       "<IPython.core.display.HTML object>"
      ]
     },
     "execution_count": 46,
     "metadata": {},
     "output_type": "execute_result"
    }
   ],
   "source": [
    "%%sparksql\n",
    "\n",
    "select * \n",
    "from dbBMeteorShowers.MoonPhases\n",
    "where month = 'april'\n",
    "and day >=15\n",
    "order by day\n",
    "--LIMIT 20\n",
    ";"
   ]
  },
  {
   "cell_type": "code",
   "execution_count": 47,
   "metadata": {
    "vscode": {
     "languageId": "sql"
    }
   },
   "outputs": [
    {
     "data": {
      "text/html": [
       "<table><tr style=\"border-bottom: 1px solid\"><td style=\"font-weight: bold\">percentage</td><td style=\"font-weight: bold\">date</td><td style=\"font-weight: bold\">DateID</td><td style=\"font-weight: bold\">monthnum</td></tr><tr><td>0.5</td><td>2020-04-15</td><td>20200415</td><td>4</td></tr><tr><td>0.5</td><td>2020-04-16</td><td>20200416</td><td>4</td></tr><tr><td>0.5</td><td>2020-04-17</td><td>20200417</td><td>4</td></tr><tr><td>0.5</td><td>2020-04-18</td><td>20200418</td><td>4</td></tr><tr><td>0.5</td><td>2020-04-19</td><td>20200419</td><td>4</td></tr><tr><td>0.5</td><td>2020-04-20</td><td>20200420</td><td>4</td></tr><tr><td>0.5</td><td>2020-04-21</td><td>20200421</td><td>4</td></tr><tr><td>0.0</td><td>2020-04-22</td><td>20200422</td><td>4</td></tr><tr><td>0.0</td><td>2020-04-23</td><td>20200423</td><td>4</td></tr><tr><td>0.0</td><td>2020-04-24</td><td>20200424</td><td>4</td></tr><tr><td>0.0</td><td>2020-04-25</td><td>20200425</td><td>4</td></tr><tr><td>0.0</td><td>2020-04-26</td><td>20200426</td><td>4</td></tr><tr><td>0.0</td><td>2020-04-27</td><td>20200427</td><td>4</td></tr><tr><td>0.0</td><td>2020-04-28</td><td>20200428</td><td>4</td></tr><tr><td>0.0</td><td>2020-04-29</td><td>20200429</td><td>4</td></tr></table>"
      ],
      "text/plain": [
       "<IPython.core.display.HTML object>"
      ]
     },
     "execution_count": 47,
     "metadata": {},
     "output_type": "execute_result"
    }
   ],
   "source": [
    "%%sparksql\n",
    "\n",
    "select * \n",
    "from dbSMeteorShowers.MoonPhases\n",
    "where dateID >= 20200415 and dateID < 20200430\n",
    "order by DateID \n",
    "--LIMIT 20\n",
    ";\n"
   ]
  },
  {
   "cell_type": "markdown",
   "metadata": {},
   "source": [
    "# Exercise - Add data from the Chang'e story"
   ]
  },
  {
   "cell_type": "code",
   "execution_count": 48,
   "metadata": {},
   "outputs": [],
   "source": [
    "# Final code\n",
    "\n",
    "def predict_best_meteor_shower_viewing(city):\n",
    "\n",
    "# Create an empty string to return the message back to the user\n",
    "\n",
    "    meteor_shower_string = \"\"\n",
    "\n",
    "    cities = dfcities.where(col(\"city\") == lit(city)).collect()\n",
    "\n",
    "    if len(cities) == 0:\n",
    "        meteor_shower_string = \"Unfortunately, \" + city + \" isn't available for a prediction at this time. \\n\"\n",
    "        return meteor_shower_string\n",
    "\n",
    "    # Get the latitude of the city from the cities DataFrame\n",
    "    latitude = lit(dfcities.select(\"latitude\").where(col(\"city\") == city).collect()[0][0])\n",
    "\n",
    "    # Get the list of constellations that are viewable from that latitude\n",
    "    constellation_list = dfconstellations.select(\"constellation\") \\\n",
    "        .where((col(\"latitudestart\") >= round(latitude,0)) & (col(\"latitudeend\") < round(latitude,0)))\\\n",
    "        .collect()\n",
    "\n",
    "    # If no constellations are viewable, let the user know\n",
    "    if not constellation_list:\n",
    "        meteor_shower_string = \"Unfortunately, there are no meteor showers viewable from \"+ city + \".\"\n",
    "\n",
    "        return meteor_shower_string\n",
    "\n",
    "    meteor_shower_string = \"In \" + city + \" you can see the following meteor showers:\\n\"\n",
    "\n",
    "     # Iterate through each constellation that is viewable from the city\n",
    "    for constellation in constellation_list:\n",
    "        \n",
    "        # Find the meteor shower that is nearest to that constellation and its related start and end dates\n",
    "        dfAuxMeteor_Shower = dfmeteor_showers.select(\"name\",\"startdate\",\"enddate\").where(col(\"radiant\") == constellation['constellation'])\n",
    "\n",
    "        meteor_shower = dfAuxMeteor_Shower.select(\"name\").collect()[0].name\n",
    "        meteor_shower_startdate = dfAuxMeteor_Shower.select(\"startdate\").collect()[0].startdate\n",
    "        meteor_shower_enddate = dfAuxMeteor_Shower.select(\"enddate\").collect()[0].enddate\n",
    "\n",
    "        # Find the Moon phases for each date within the viewable time frame of that meteor shower\n",
    "        dfAuxMoon_phases_1 = dfmoon_phases.select(\"date\", \"percentage\")  \\\n",
    "            .where((col(\"date\") >= lit(meteor_shower_startdate)) & (col(\"date\") <= lit(meteor_shower_enddate)))\n",
    "        \n",
    "        # Added/Changed block specific for this exercise\n",
    "        if meteor_shower == 'Chang\\'e':\n",
    "            \n",
    "            # For the film meteor shower, find the date where the Moon is the most visible\n",
    "            dfAuxMoon_phases_2 = dfAuxMoon_phases_1.select(\"percentage\",expr(\"date_format(date,'dd MMMM yyyy')\")) \\\n",
    "            .orderBy(col(\"percentage\").desc()) \\\n",
    "            .withColumnRenamed(\"date_format(date, dd MMMM yyyy)\",\"dateStr\") \\\n",
    "            .first()\n",
    "\n",
    "            # Find the first date where the Moon is the most visible (converts the date output to formatted string)\n",
    "            best_moon_date = dfAuxMoon_phases_2.dateStr\n",
    "\n",
    "            # Add that date to the string to report back to the user\n",
    "            meteor_shower_string += \"\\t\" + \"Though the Moon will be bright, \" + meteor_shower + \"'s meteor shower is best seen if you look towards the \" \\\n",
    "                                    + constellation[0] + \" constellation on \" +  \\\n",
    "                                    best_moon_date + \"\\n\"\n",
    "        \n",
    "        else:\n",
    "            dfAuxMoon_phases_2 = dfAuxMoon_phases_1.select(\"percentage\",expr(\"date_format(date,'dd MMMM yyyy')\")) \\\n",
    "            .orderBy(col(\"percentage\")) \\\n",
    "            .withColumnRenamed(\"date_format(date, dd MMMM yyyy)\",\"dateStr\") \\\n",
    "            .first()\n",
    "\n",
    "            # Find the first date where the Moon is the least visible (conerts the date output to formatted string)\n",
    "            best_moon_date = dfAuxMoon_phases_2.dateStr\n",
    "\n",
    "            # Add that date to the string to report back to the user\n",
    "            meteor_shower_string += \"\\t\" + meteor_shower + \" is best seen if you look towards the \" + \\\n",
    "                                constellation[0] + \" constellation on \" +  \\\n",
    "                                best_moon_date + \"\\n\"\n",
    "        #################################\n",
    "    \n",
    "    return meteor_shower_string\n"
   ]
  },
  {
   "cell_type": "code",
   "execution_count": 49,
   "metadata": {},
   "outputs": [
    {
     "name": "stdout",
     "output_type": "stream",
     "text": [
      "Predicitons for Abu Dhabi:\n",
      "\n",
      "In Abu Dhabi you can see the following meteor showers:\n",
      "\tLyrids is best seen if you look towards the Lyra constellation on 22 April 2020\n",
      "\tEta Aquarids is best seen if you look towards the Aquarius constellation on 22 April 2020\n",
      "\tOrionids is best seen if you look towards the Orion constellation on 16 October 2020\n",
      "\tPerseids is best seen if you look towards the Perseus constellation on 20 July 2020\n",
      "\tThough the Moon will be bright, Chang'e's meteor shower is best seen if you look towards the Draco constellation on 01 October 2020\n",
      "\n",
      "Predicitons for Beijing:\n",
      "\n",
      "In Beijing you can see the following meteor showers:\n",
      "\tLyrids is best seen if you look towards the Lyra constellation on 22 April 2020\n",
      "\tEta Aquarids is best seen if you look towards the Aquarius constellation on 22 April 2020\n",
      "\tOrionids is best seen if you look towards the Orion constellation on 16 October 2020\n",
      "\tPerseids is best seen if you look towards the Perseus constellation on 20 July 2020\n",
      "\tThough the Moon will be bright, Chang'e's meteor shower is best seen if you look towards the Draco constellation on 01 October 2020\n",
      "\n"
     ]
    }
   ],
   "source": [
    " # Change the city to Beijing:\n",
    "\n",
    "tstCities = [\"Abu Dhabi\",\"Beijing\"]\n",
    "\n",
    "for tstCity in tstCities:\n",
    "    print(f\"Predicitons for {tstCity}:\\n\")\n",
    "    print(predict_best_meteor_shower_viewing(tstCity))\n",
    "\n",
    "#print(predict_best_meteor_shower_viewing('Abu Dhabi'))\n",
    "#print(predict_best_meteor_shower_viewing('Beijing'))\n",
    "\n"
   ]
  }
 ],
 "metadata": {
  "kernelspec": {
   "display_name": "Python 3",
   "language": "python",
   "name": "python3"
  },
  "language_info": {
   "codemirror_mode": {
    "name": "ipython",
    "version": 3
   },
   "file_extension": ".py",
   "mimetype": "text/x-python",
   "name": "python",
   "nbconvert_exporter": "python",
   "pygments_lexer": "ipython3",
   "version": "3.11.7"
  }
 },
 "nbformat": 4,
 "nbformat_minor": 2
}
