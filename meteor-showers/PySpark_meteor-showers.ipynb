{
 "cells": [
  {
   "cell_type": "markdown",
   "metadata": {},
   "source": [
    "## Initializations"
   ]
  },
  {
   "cell_type": "code",
   "execution_count": 711,
   "metadata": {},
   "outputs": [
    {
     "name": "stdout",
     "output_type": "stream",
     "text": [
      "The sparksql_magic extension is already loaded. To reload it, use:\n",
      "  %reload_ext sparksql_magic\n"
     ]
    }
   ],
   "source": [
    "# Needed to enable %%sparksql magic (Enables SQL instructions execution)\n",
    "%load_ext sparksql_magic"
   ]
  },
  {
   "cell_type": "code",
   "execution_count": 712,
   "metadata": {},
   "outputs": [],
   "source": [
    "# Imports\n",
    "from pyspark.sql import SparkSession\n",
    "\n",
    "from pyspark.sql.types import IntegerType\n",
    "from pyspark.sql.functions import col,lag, lit, round, mean as _mean, sum as _sum, expr, create_map, to_date, month, dayofmonth, date_format"
   ]
  },
  {
   "cell_type": "code",
   "execution_count": 713,
   "metadata": {},
   "outputs": [],
   "source": [
    "# Create SparkSession\n",
    "spark = SparkSession.builder.appName(\"Meteor Showers\") \\\n",
    "    .enableHiveSupport() \\\n",
    "    .getOrCreate()"
   ]
  },
  {
   "cell_type": "code",
   "execution_count": 714,
   "metadata": {},
   "outputs": [],
   "source": [
    "# Config\n",
    "cBaseDataPath = \"file:///C:/Users/manso/LocalDocuments/10-TechProjects/meteor-showers/data/\""
   ]
  },
  {
   "cell_type": "markdown",
   "metadata": {},
   "source": [
    "## Create DB structures (according to medallion architecture)"
   ]
  },
  {
   "cell_type": "markdown",
   "metadata": {},
   "source": [
    "### Bronze Layer"
   ]
  },
  {
   "cell_type": "code",
   "execution_count": 715,
   "metadata": {
    "vscode": {
     "languageId": "sql"
    }
   },
   "outputs": [
    {
     "data": {
      "text/html": [
       "<table><tr style=\"border-bottom: 1px solid\"></tr></table>"
      ],
      "text/plain": [
       "<IPython.core.display.HTML object>"
      ]
     },
     "execution_count": 715,
     "metadata": {},
     "output_type": "execute_result"
    }
   ],
   "source": [
    "%%sparksql\n",
    "\n",
    "-- Create dbMeteorShowers Bronze Layer database\n",
    "\n",
    "-- DROP section (if needed)\n",
    "--DROP DATABASE dbBMeteorShowers\n",
    "\n",
    "-- Create database\n",
    "CREATE DATABASE IF NOT EXISTS dbBMeteorShowers;"
   ]
  },
  {
   "cell_type": "markdown",
   "metadata": {},
   "source": [
    "### Silver Layer"
   ]
  },
  {
   "cell_type": "code",
   "execution_count": 716,
   "metadata": {
    "vscode": {
     "languageId": "sql"
    }
   },
   "outputs": [
    {
     "data": {
      "text/html": [
       "<table><tr style=\"border-bottom: 1px solid\"></tr></table>"
      ],
      "text/plain": [
       "<IPython.core.display.HTML object>"
      ]
     },
     "execution_count": 716,
     "metadata": {},
     "output_type": "execute_result"
    }
   ],
   "source": [
    "%%sparksql\n",
    "\n",
    "-- Create dbMeteorShowers Silver Layer database\n",
    "\n",
    "-- DROP section (if needed)\n",
    "--DROP DATABASE dbSMeteorShowers\n",
    "\n",
    "-- Create database\n",
    "CREATE DATABASE IF NOT EXISTS dbSMeteorShowers;"
   ]
  },
  {
   "cell_type": "markdown",
   "metadata": {},
   "source": [
    "### Gold Layer"
   ]
  },
  {
   "cell_type": "code",
   "execution_count": 717,
   "metadata": {
    "vscode": {
     "languageId": "sql"
    }
   },
   "outputs": [
    {
     "data": {
      "text/html": [
       "<table><tr style=\"border-bottom: 1px solid\"></tr></table>"
      ],
      "text/plain": [
       "<IPython.core.display.HTML object>"
      ]
     },
     "execution_count": 717,
     "metadata": {},
     "output_type": "execute_result"
    }
   ],
   "source": [
    "%%sparksql\n",
    "\n",
    "-- Create dbMeteorShowers Gold Layer database\n",
    "\n",
    "-- DROP section (if needed)\n",
    "--DROP DATABASE dbGMeteorShowers\n",
    "\n",
    "-- Create database\n",
    "CREATE DATABASE IF NOT EXISTS dbGMeteorShowers;"
   ]
  },
  {
   "cell_type": "code",
   "execution_count": 718,
   "metadata": {},
   "outputs": [
    {
     "name": "stdout",
     "output_type": "stream",
     "text": [
      "+----------------+\n",
      "|       namespace|\n",
      "+----------------+\n",
      "|dbbmeteorshowers|\n",
      "|dbgmeteorshowers|\n",
      "|dbsmeteorshowers|\n",
      "|         default|\n",
      "+----------------+\n",
      "\n"
     ]
    },
    {
     "name": "stdout",
     "output_type": "stream",
     "text": [
      "Table list:\n",
      "cities\n",
      "constellations\n",
      "meteorshowers\n",
      "moonphases\n",
      "AuxCM\n",
      "stage_moon_phases\n"
     ]
    }
   ],
   "source": [
    "# List existing databases\n",
    "spark.sql('show databases').show()\n",
    "\n",
    "# List train database tables\n",
    "tablesdbb = spark.catalog.listTables('dbbmeteorshowers')\n",
    "\n",
    "print(\"Table list:\")\n",
    "for table in tablesdbb:\n",
    "    print(table.name)"
   ]
  },
  {
   "cell_type": "markdown",
   "metadata": {},
   "source": [
    "# Exercise - Cleanse meteor data"
   ]
  },
  {
   "cell_type": "code",
   "execution_count": 719,
   "metadata": {},
   "outputs": [],
   "source": [
    "# Import all four .csv files\n",
    "\n",
    "rawLoadDataEntitiesDict = {\n",
    "    \"meteor_showers\": \"meteorshowers.csv\",\n",
    "    \"moon_phases\" : \"moonphases.csv\",\n",
    "    \"constellations\" : \"constellations.csv\",\n",
    "    \"cities\" : \"cities.csv\"\n",
    "}\n",
    "\n",
    "dfmeteor_showers = spark.read.options(inferSchema=\"True\", header= \"True\").csv(cBaseDataPath + rawLoadDataEntitiesDict[\"meteor_showers\"])\n",
    "dfmoon_phases = spark.read.options(inferSchema=\"True\", header= \"True\").csv(cBaseDataPath + rawLoadDataEntitiesDict[\"moon_phases\"])\n",
    "dfconstellations = spark.read.options(inferSchema=\"True\", header= \"True\").csv(cBaseDataPath + rawLoadDataEntitiesDict[\"constellations\"])\n",
    "dfcities = spark.read.options(inferSchema=\"True\", header= \"True\").csv(cBaseDataPath + rawLoadDataEntitiesDict[\"cities\"])\n"
   ]
  },
  {
   "cell_type": "markdown",
   "metadata": {},
   "source": [
    "## Explore data"
   ]
  },
  {
   "cell_type": "code",
   "execution_count": 720,
   "metadata": {},
   "outputs": [
    {
     "name": "stdout",
     "output_type": "stream",
     "text": [
      "<class 'pandas.core.frame.DataFrame'>\n",
      "RangeIndex: 5 entries, 0 to 4\n",
      "Data columns (total 9 columns):\n",
      " #   Column               Non-Null Count  Dtype \n",
      "---  ------               --------------  ----- \n",
      " 0   name                 5 non-null      object\n",
      " 1   radiant              5 non-null      object\n",
      " 2   bestmonth            5 non-null      object\n",
      " 3   startmonth           5 non-null      object\n",
      " 4   startday             5 non-null      int32 \n",
      " 5   endmonth             5 non-null      object\n",
      " 6   endday               5 non-null      int32 \n",
      " 7   hemisphere           5 non-null      object\n",
      " 8   preferredhemisphere  5 non-null      object\n",
      "dtypes: int32(2), object(7)\n",
      "memory usage: 452.0+ bytes\n",
      "+------------+--------+---------+----------+--------+--------+------+------------------+-------------------+\n",
      "|        name| radiant|bestmonth|startmonth|startday|endmonth|endday|        hemisphere|preferredhemisphere|\n",
      "+------------+--------+---------+----------+--------+--------+------+------------------+-------------------+\n",
      "|      Lyrids|    Lyra|    april|     april|      21|   april|    22|          northern|           northern|\n",
      "|Eta Aquarids|Aquarius|      may|     april|      19|     may|    28|northern, southern|           southern|\n",
      "|    Orionids|   Orion|  october|   october|       2|november|     7|northern, southern| northern, southern|\n",
      "|    Perseids| Perseus|   august|      july|      14|  august|    24|          northern|           northern|\n",
      "|     Leonids|     Leo| november|  november|       6|november|    30|northern, southern| northern, southern|\n",
      "+------------+--------+---------+----------+--------+--------+------+------------------+-------------------+\n",
      "\n"
     ]
    }
   ],
   "source": [
    "dfmeteor_showers.toPandas().info()\n",
    "dfmeteor_showers.show(5)"
   ]
  },
  {
   "cell_type": "code",
   "execution_count": 721,
   "metadata": {},
   "outputs": [
    {
     "name": "stdout",
     "output_type": "stream",
     "text": [
      "+-------+---+-------------+------------+\n",
      "|  month|day|    moonphase|specialevent|\n",
      "+-------+---+-------------+------------+\n",
      "|january|  1|         NULL|        NULL|\n",
      "|january|  2|first quarter|        NULL|\n",
      "|january|  3|         NULL|        NULL|\n",
      "|january|  4|         NULL|        NULL|\n",
      "|january|  5|         NULL|        NULL|\n",
      "+-------+---+-------------+------------+\n",
      "only showing top 5 rows\n",
      "\n"
     ]
    }
   ],
   "source": [
    "#dfmoon_phases.toPandas().info()\n",
    "dfmoon_phases.show(5)"
   ]
  },
  {
   "cell_type": "code",
   "execution_count": 722,
   "metadata": {},
   "outputs": [
    {
     "name": "stdout",
     "output_type": "stream",
     "text": [
      "+-------------+---------+-------------+-----------+-------------------+----------+\n",
      "|constellation|bestmonth|latitudestart|latitudeend|           besttime|hemisphere|\n",
      "+-------------+---------+-------------+-----------+-------------------+----------+\n",
      "|         Lyra|   august|           90|        -40|2024-02-20 21:00:00|  northern|\n",
      "|     Aquarius|  october|           65|        -90|2024-02-20 21:00:00|  southern|\n",
      "|        Orion|  january|           85|        -75|2024-02-20 21:00:00|  northern|\n",
      "|      Perseus| december|           90|        -35|2024-02-20 21:00:00|  northern|\n",
      "|          Leo|    april|           90|         65|2024-02-20 21:00:00|  northern|\n",
      "+-------------+---------+-------------+-----------+-------------------+----------+\n",
      "\n"
     ]
    }
   ],
   "source": [
    "#dfconstellations.toPandas().info()\n",
    "dfconstellations.show(5)"
   ]
  },
  {
   "cell_type": "code",
   "execution_count": 723,
   "metadata": {},
   "outputs": [
    {
     "name": "stdout",
     "output_type": "stream",
     "text": [
      "<class 'pandas.core.frame.DataFrame'>\n",
      "RangeIndex: 256 entries, 0 to 255\n",
      "Data columns (total 3 columns):\n",
      " #   Column    Non-Null Count  Dtype  \n",
      "---  ------    --------------  -----  \n",
      " 0   city      256 non-null    object \n",
      " 1   latitude  256 non-null    float64\n",
      " 2   country   256 non-null    object \n",
      "dtypes: float64(1), object(2)\n",
      "memory usage: 6.1+ KB\n",
      "+-----------+--------+--------------------+\n",
      "|       city|latitude|             country|\n",
      "+-----------+--------+--------------------+\n",
      "|  Abu Dhabi|   24.47|United Arab Emirates|\n",
      "|      Abuja|    9.07|             Nigeria|\n",
      "|      Accra|    5.55|               Ghana|\n",
      "|  Adamstown|  -25.07|    Pitcairn Islands|\n",
      "|Addis Ababa|    9.02|            Ethiopia|\n",
      "+-----------+--------+--------------------+\n",
      "only showing top 5 rows\n",
      "\n"
     ]
    }
   ],
   "source": [
    "dfcities.toPandas().info()\n",
    "dfcities.show(5)"
   ]
  },
  {
   "cell_type": "markdown",
   "metadata": {},
   "source": [
    " ## Load Raw data to Bronze Layer"
   ]
  },
  {
   "cell_type": "code",
   "execution_count": 724,
   "metadata": {},
   "outputs": [],
   "source": [
    "# Write to (managed) tables on dbMeteorShowers database\n",
    "\n",
    "dfmeteor_showers.write.mode(\"Overwrite\")\\\n",
    "    .saveAsTable(\"dbBMeteorShowers.MeteorShowers\")\n",
    "\n",
    "dfmoon_phases.write.mode(\"Overwrite\")\\\n",
    "    .saveAsTable(\"dbBMeteorShowers.MoonPhases\")\n",
    "\n",
    "dfconstellations.write.mode(\"Overwrite\")\\\n",
    "    .saveAsTable(\"dbBMeteorShowers.Constellations\")\n",
    "\n",
    "dfcities.write.mode(\"Overwrite\")\\\n",
    "    .saveAsTable(\"dbBMeteorShowers.Cities\")\n"
   ]
  },
  {
   "cell_type": "markdown",
   "metadata": {},
   "source": [
    "### Explore Bronze layer information"
   ]
  },
  {
   "cell_type": "code",
   "execution_count": 725,
   "metadata": {
    "vscode": {
     "languageId": "sql"
    }
   },
   "outputs": [
    {
     "data": {
      "text/html": [
       "<table><tr style=\"border-bottom: 1px solid\"><td style=\"font-weight: bold\">city</td><td style=\"font-weight: bold\">latitude</td><td style=\"font-weight: bold\">country</td></tr><tr><td>Abu Dhabi</td><td>24.47</td><td>United Arab Emirates</td></tr><tr><td>Abuja</td><td>9.07</td><td>Nigeria</td></tr><tr><td>Accra</td><td>5.55</td><td>Ghana</td></tr><tr><td>Adamstown</td><td>-25.07</td><td>Pitcairn Islands</td></tr><tr><td>Addis Ababa</td><td>9.02</td><td>Ethiopia</td></tr></table>"
      ],
      "text/plain": [
       "<IPython.core.display.HTML object>"
      ]
     },
     "execution_count": 725,
     "metadata": {},
     "output_type": "execute_result"
    }
   ],
   "source": [
    "%%sparksql\n",
    "\n",
    "-- Explore Bronze layer information\n",
    "\n",
    "select * \n",
    "from dbBMeteorShowers.Cities\n",
    "LIMIT 5\n",
    ";\n"
   ]
  },
  {
   "cell_type": "markdown",
   "metadata": {},
   "source": [
    "## Transform data"
   ]
  },
  {
   "cell_type": "code",
   "execution_count": 726,
   "metadata": {},
   "outputs": [],
   "source": [
    "# Configure value transformation dictionary structures\n",
    "\n",
    "trfMonths = {'january':1, 'february':2, 'march':3, 'april':4, 'may':5, 'june':6, 'july':7, 'august':8, 'september':9, 'october':10, 'november':11, 'december':12}\n",
    "trfHemispheres = {'northern':0, 'southern':1, 'northern, southern':3}\n",
    "trfPhases = {'new moon':0,'third quarter':0.5, 'first quarter':0.5,'full moon':1.0}"
   ]
  },
  {
   "cell_type": "code",
   "execution_count": 727,
   "metadata": {},
   "outputs": [],
   "source": [
    "# Convert the month columns to numbers:\n",
    "\n",
    "# Create map structure for months (check List Comprehension on Python)\n",
    "mapMonths_col = create_map([lit(x) for i in trfMonths.items() for x in i])\n",
    "\n",
    "dfmeteor_showers = dfmeteor_showers.withColumn(\"bestmonthnum\", mapMonths_col[col('bestmonth')]) \\\n",
    "    .withColumn(\"startmonthnum\", mapMonths_col[col('startmonth')]) \\\n",
    "    .withColumn(\"endmonthnum\", mapMonths_col[col('endmonth')])\n",
    "\n",
    "#dfmeteor_showers.show()\n",
    "\n",
    "\n",
    "dfmoon_phases = dfmoon_phases.withColumn(\"monthnum\", mapMonths_col[col('month')])\n",
    "\n",
    "#dfmoon_phases.show()\n",
    "\n",
    "\n",
    "dfconstellations = dfconstellations.withColumn(\"bestmonthnum\", mapMonths_col[col('bestmonth')])\n",
    "\n",
    "#dfconstellations.show()\n"
   ]
  },
  {
   "cell_type": "code",
   "execution_count": 728,
   "metadata": {},
   "outputs": [
    {
     "name": "stdout",
     "output_type": "stream",
     "text": [
      "<class 'pandas.core.frame.DataFrame'>\n",
      "RangeIndex: 5 entries, 0 to 4\n",
      "Data columns (total 12 columns):\n",
      " #   Column               Non-Null Count  Dtype \n",
      "---  ------               --------------  ----- \n",
      " 0   name                 5 non-null      object\n",
      " 1   radiant              5 non-null      object\n",
      " 2   bestmonth            5 non-null      object\n",
      " 3   startmonth           5 non-null      object\n",
      " 4   startday             5 non-null      int32 \n",
      " 5   endmonth             5 non-null      object\n",
      " 6   endday               5 non-null      int32 \n",
      " 7   hemisphere           5 non-null      object\n",
      " 8   preferredhemisphere  5 non-null      object\n",
      " 9   bestmonthnum         5 non-null      int32 \n",
      " 10  startmonthnum        5 non-null      int32 \n",
      " 11  endmonthnum          5 non-null      int32 \n",
      "dtypes: int32(5), object(7)\n",
      "memory usage: 512.0+ bytes\n",
      "+------------+--------+---------+----------+--------+--------+------+------------------+-------------------+------------+-------------+-----------+\n",
      "|        name| radiant|bestmonth|startmonth|startday|endmonth|endday|        hemisphere|preferredhemisphere|bestmonthnum|startmonthnum|endmonthnum|\n",
      "+------------+--------+---------+----------+--------+--------+------+------------------+-------------------+------------+-------------+-----------+\n",
      "|      Lyrids|    Lyra|    april|     april|      21|   april|    22|          northern|           northern|           4|            4|          4|\n",
      "|Eta Aquarids|Aquarius|      may|     april|      19|     may|    28|northern, southern|           southern|           5|            4|          5|\n",
      "|    Orionids|   Orion|  october|   october|       2|november|     7|northern, southern| northern, southern|          10|           10|         11|\n",
      "|    Perseids| Perseus|   august|      july|      14|  august|    24|          northern|           northern|           8|            7|          8|\n",
      "|     Leonids|     Leo| november|  november|       6|november|    30|northern, southern| northern, southern|          11|           11|         11|\n",
      "+------------+--------+---------+----------+--------+--------+------+------------------+-------------------+------------+-------------+-----------+\n",
      "\n"
     ]
    }
   ],
   "source": [
    "dfmeteor_showers.toPandas().info()\n",
    "dfmeteor_showers.show(5)"
   ]
  },
  {
   "cell_type": "code",
   "execution_count": 729,
   "metadata": {},
   "outputs": [
    {
     "name": "stdout",
     "output_type": "stream",
     "text": [
      "root\n",
      " |-- name: string (nullable = true)\n",
      " |-- radiant: string (nullable = true)\n",
      " |-- bestmonth: string (nullable = true)\n",
      " |-- startmonth: string (nullable = true)\n",
      " |-- startday: integer (nullable = true)\n",
      " |-- endmonth: string (nullable = true)\n",
      " |-- endday: integer (nullable = true)\n",
      " |-- hemisphere: string (nullable = true)\n",
      " |-- preferredhemisphere: string (nullable = true)\n",
      " |-- bestmonthnum: integer (nullable = true)\n",
      " |-- startmonthnum: integer (nullable = true)\n",
      " |-- endmonthnum: integer (nullable = true)\n",
      " |-- startdate: date (nullable = true)\n",
      " |-- enddate: date (nullable = true)\n",
      "\n",
      "+------------+--------+---------+----------+--------+--------+------+------------------+-------------------+------------+-------------+-----------+----------+----------+\n",
      "|        name| radiant|bestmonth|startmonth|startday|endmonth|endday|        hemisphere|preferredhemisphere|bestmonthnum|startmonthnum|endmonthnum| startdate|   enddate|\n",
      "+------------+--------+---------+----------+--------+--------+------+------------------+-------------------+------------+-------------+-----------+----------+----------+\n",
      "|      Lyrids|    Lyra|    april|     april|      21|   april|    22|          northern|           northern|           4|            4|          4|2020-04-21|2020-04-22|\n",
      "|Eta Aquarids|Aquarius|      may|     april|      19|     may|    28|northern, southern|           southern|           5|            4|          5|2020-04-19|2020-05-28|\n",
      "|    Orionids|   Orion|  october|   october|       2|november|     7|northern, southern| northern, southern|          10|           10|         11|2020-10-02|2020-11-07|\n",
      "|    Perseids| Perseus|   august|      july|      14|  august|    24|          northern|           northern|           8|            7|          8|2020-07-14|2020-08-24|\n",
      "|     Leonids|     Leo| november|  november|       6|november|    30|northern, southern| northern, southern|          11|           11|         11|2020-11-06|2020-11-30|\n",
      "+------------+--------+---------+----------+--------+--------+------+------------------+-------------------+------------+-------------+-----------+----------+----------+\n",
      "\n"
     ]
    }
   ],
   "source": [
    "# Create two new columns: startdate and enddate. These columns will contain a month and day in 2020:\n",
    "\n",
    "dfmeteor_showers = dfmeteor_showers.withColumn(\"startdate\", to_date(lit(2020)*lit(10000)+col(\"startmonthnum\")*lit(100)+col(\"startday\"), \"yyyyMMdd\")) \\\n",
    "                .withColumn(\"enddate\", to_date(lit(2020)*lit(10000)+col(\"endmonthnum\")*lit(100)+col(\"endday\"), \"yyyyMMdd\")) \n",
    "\n",
    "# ... Or with use of SQL in expr() function:\n",
    "#dfmeteor_showers = dfmeteor_showers.withColumn(\"startdate\", expr(\"to_date(2020*10000+startmonthnum*100+startday,'yyyyMMdd')\"))\n",
    "\n",
    "dfmeteor_showers.printSchema()\n",
    "dfmeteor_showers.show(5)\n"
   ]
  },
  {
   "cell_type": "code",
   "execution_count": 730,
   "metadata": {},
   "outputs": [
    {
     "name": "stdout",
     "output_type": "stream",
     "text": [
      "root\n",
      " |-- month: string (nullable = true)\n",
      " |-- day: integer (nullable = true)\n",
      " |-- moonphase: string (nullable = true)\n",
      " |-- specialevent: string (nullable = true)\n",
      " |-- monthnum: integer (nullable = true)\n",
      " |-- date: date (nullable = true)\n",
      "\n",
      "+-------+---+-------------+------------+--------+----------+\n",
      "|  month|day|    moonphase|specialevent|monthnum|      date|\n",
      "+-------+---+-------------+------------+--------+----------+\n",
      "|january|  1|         NULL|        NULL|       1|2020-01-01|\n",
      "|january|  2|first quarter|        NULL|       1|2020-01-02|\n",
      "|january|  3|         NULL|        NULL|       1|2020-01-03|\n",
      "|january|  4|         NULL|        NULL|       1|2020-01-04|\n",
      "|january|  5|         NULL|        NULL|       1|2020-01-05|\n",
      "|january|  6|         NULL|        NULL|       1|2020-01-06|\n",
      "|january|  7|         NULL|        NULL|       1|2020-01-07|\n",
      "|january|  8|         NULL|        NULL|       1|2020-01-08|\n",
      "|january|  9|         NULL|        NULL|       1|2020-01-09|\n",
      "|january| 10|    full moon|        NULL|       1|2020-01-10|\n",
      "|january| 11|         NULL|        NULL|       1|2020-01-11|\n",
      "|january| 12|         NULL|        NULL|       1|2020-01-12|\n",
      "|january| 13|         NULL|        NULL|       1|2020-01-13|\n",
      "|january| 14|         NULL|        NULL|       1|2020-01-14|\n",
      "|january| 15|         NULL|        NULL|       1|2020-01-15|\n",
      "|january| 16|         NULL|        NULL|       1|2020-01-16|\n",
      "|january| 17|third quarter|        NULL|       1|2020-01-17|\n",
      "|january| 18|         NULL|        NULL|       1|2020-01-18|\n",
      "|january| 19|         NULL|        NULL|       1|2020-01-19|\n",
      "|january| 20|         NULL|        NULL|       1|2020-01-20|\n",
      "+-------+---+-------------+------------+--------+----------+\n",
      "only showing top 20 rows\n",
      "\n"
     ]
    }
   ],
   "source": [
    "# Follow the same pattern for moon_phases:\n",
    "\n",
    "dfmoon_phases = dfmoon_phases.withColumn(\"date\", to_date(lit(2020)*lit(10000)+col(\"monthnum\")*lit(100)+col(\"day\"), \"yyyyMMdd\"))\n",
    "\n",
    "dfmoon_phases.printSchema()\n",
    "dfmoon_phases.show()\n"
   ]
  },
  {
   "cell_type": "code",
   "execution_count": 731,
   "metadata": {},
   "outputs": [
    {
     "name": "stdout",
     "output_type": "stream",
     "text": [
      "+------------+--------+---------+----------+--------+--------+------+------------------+-------------------+------------+-------------+-----------+----------+----------+-------------+\n",
      "|        name| radiant|bestmonth|startmonth|startday|endmonth|endday|        hemisphere|preferredhemisphere|bestmonthnum|startmonthnum|endmonthnum| startdate|   enddate|hemispherenum|\n",
      "+------------+--------+---------+----------+--------+--------+------+------------------+-------------------+------------+-------------+-----------+----------+----------+-------------+\n",
      "|      Lyrids|    Lyra|    april|     april|      21|   april|    22|          northern|           northern|           4|            4|          4|2020-04-21|2020-04-22|            0|\n",
      "|Eta Aquarids|Aquarius|      may|     april|      19|     may|    28|northern, southern|           southern|           5|            4|          5|2020-04-19|2020-05-28|            3|\n",
      "|    Orionids|   Orion|  october|   october|       2|november|     7|northern, southern| northern, southern|          10|           10|         11|2020-10-02|2020-11-07|            3|\n",
      "|    Perseids| Perseus|   august|      july|      14|  august|    24|          northern|           northern|           8|            7|          8|2020-07-14|2020-08-24|            0|\n",
      "|     Leonids|     Leo| november|  november|       6|november|    30|northern, southern| northern, southern|          11|           11|         11|2020-11-06|2020-11-30|            3|\n",
      "+------------+--------+---------+----------+--------+--------+------+------------------+-------------------+------------+-------------+-----------+----------+----------+-------------+\n",
      "\n",
      "+-------------+---------+-------------+-----------+-------------------+----------+------------+-------------+\n",
      "|constellation|bestmonth|latitudestart|latitudeend|           besttime|hemisphere|bestmonthnum|hemispherenum|\n",
      "+-------------+---------+-------------+-----------+-------------------+----------+------------+-------------+\n",
      "|         Lyra|   august|           90|        -40|2024-02-20 21:00:00|  northern|           8|            0|\n",
      "|     Aquarius|  october|           65|        -90|2024-02-20 21:00:00|  southern|          10|            1|\n",
      "|        Orion|  january|           85|        -75|2024-02-20 21:00:00|  northern|           1|            0|\n",
      "|      Perseus| december|           90|        -35|2024-02-20 21:00:00|  northern|          12|            0|\n",
      "|          Leo|    april|           90|         65|2024-02-20 21:00:00|  northern|           4|            0|\n",
      "+-------------+---------+-------------+-----------+-------------------+----------+------------+-------------+\n",
      "\n"
     ]
    },
    {
     "data": {
      "text/plain": [
       "\" hemispheres = {'northern':0, 'southern':1, 'northern, southern':3}\\nmeteor_showers.hemisphere = meteor_showers.hemisphere.map(hemispheres)\\nconstellations.hemisphere = constellations.hemisphere.map(hemispheres) \""
      ]
     },
     "execution_count": 731,
     "metadata": {},
     "output_type": "execute_result"
    }
   ],
   "source": [
    "# Convert hemisphere data to numbers by using the mapping process:\n",
    "\n",
    "# Create map structure for Hemispheres (check List Comprehension on Python)\n",
    "mapHemispheres_col = create_map([lit(x) for i in trfHemispheres.items() for x in i])\n",
    "\n",
    "dfmeteor_showers = dfmeteor_showers.withColumn(\"hemispherenum\", mapHemispheres_col[col('hemisphere')])\n",
    "\n",
    "dfconstellations = dfconstellations.withColumn(\"hemispherenum\", mapHemispheres_col[col('hemisphere')])\n",
    "\n",
    "dfmeteor_showers.show(5)\n",
    "dfconstellations.show(5)\n",
    "\n",
    "\n",
    "\"\"\" hemispheres = {'northern':0, 'southern':1, 'northern, southern':3}\n",
    "meteor_showers.hemisphere = meteor_showers.hemisphere.map(hemispheres)\n",
    "constellations.hemisphere = constellations.hemisphere.map(hemispheres) \"\"\""
   ]
  },
  {
   "cell_type": "code",
   "execution_count": 732,
   "metadata": {},
   "outputs": [
    {
     "name": "stdout",
     "output_type": "stream",
     "text": [
      "+-------+---+-------------+------------+--------+----------+----------+\n",
      "|  month|day|    moonphase|specialevent|monthnum|      date|percentage|\n",
      "+-------+---+-------------+------------+--------+----------+----------+\n",
      "|january|  1|         NULL|        NULL|       1|2020-01-01|      NULL|\n",
      "|january|  2|first quarter|        NULL|       1|2020-01-02|       0.5|\n",
      "|january|  3|         NULL|        NULL|       1|2020-01-03|      NULL|\n",
      "|january|  4|         NULL|        NULL|       1|2020-01-04|      NULL|\n",
      "|january|  5|         NULL|        NULL|       1|2020-01-05|      NULL|\n",
      "|january|  6|         NULL|        NULL|       1|2020-01-06|      NULL|\n",
      "|january|  7|         NULL|        NULL|       1|2020-01-07|      NULL|\n",
      "|january|  8|         NULL|        NULL|       1|2020-01-08|      NULL|\n",
      "|january|  9|         NULL|        NULL|       1|2020-01-09|      NULL|\n",
      "|january| 10|    full moon|        NULL|       1|2020-01-10|       1.0|\n",
      "|january| 11|         NULL|        NULL|       1|2020-01-11|      NULL|\n",
      "|january| 12|         NULL|        NULL|       1|2020-01-12|      NULL|\n",
      "|january| 13|         NULL|        NULL|       1|2020-01-13|      NULL|\n",
      "|january| 14|         NULL|        NULL|       1|2020-01-14|      NULL|\n",
      "|january| 15|         NULL|        NULL|       1|2020-01-15|      NULL|\n",
      "|january| 16|         NULL|        NULL|       1|2020-01-16|      NULL|\n",
      "|january| 17|third quarter|        NULL|       1|2020-01-17|       0.5|\n",
      "|january| 18|         NULL|        NULL|       1|2020-01-18|      NULL|\n",
      "|january| 19|         NULL|        NULL|       1|2020-01-19|      NULL|\n",
      "|january| 20|         NULL|        NULL|       1|2020-01-20|      NULL|\n",
      "+-------+---+-------------+------------+--------+----------+----------+\n",
      "only showing top 20 rows\n",
      "\n"
     ]
    }
   ],
   "source": [
    "# Convert Moon phases to numbers that represent the percentage of the Moon that's visible\n",
    "\n",
    "# Create map structure for Moon phases (check List Comprehension on Python)\n",
    "mapPhases_col = create_map([lit(x) for i in trfPhases.items() for x in i])\n",
    "\n",
    "dfmoon_phases = dfmoon_phases.withColumn(\"percentage\", mapPhases_col[col('moonphase')])\n",
    "\n",
    "dfmoon_phases.show()\n"
   ]
  },
  {
   "cell_type": "code",
   "execution_count": 733,
   "metadata": {},
   "outputs": [
    {
     "name": "stdout",
     "output_type": "stream",
     "text": [
      "+------------+--------+---------+-------------------+------------+-------------+-----------+----------+----------+-------------+\n",
      "|        name| radiant|bestmonth|preferredhemisphere|bestmonthnum|startmonthnum|endmonthnum| startdate|   enddate|hemispherenum|\n",
      "+------------+--------+---------+-------------------+------------+-------------+-----------+----------+----------+-------------+\n",
      "|      Lyrids|    Lyra|    april|           northern|           4|            4|          4|2020-04-21|2020-04-22|            0|\n",
      "|Eta Aquarids|Aquarius|      may|           southern|           5|            4|          5|2020-04-19|2020-05-28|            3|\n",
      "|    Orionids|   Orion|  october| northern, southern|          10|           10|         11|2020-10-02|2020-11-07|            3|\n",
      "|    Perseids| Perseus|   august|           northern|           8|            7|          8|2020-07-14|2020-08-24|            0|\n",
      "|     Leonids|     Leo| november| northern, southern|          11|           11|         11|2020-11-06|2020-11-30|            3|\n",
      "+------------+--------+---------+-------------------+------------+-------------+-----------+----------+----------+-------------+\n",
      "\n",
      "+--------+----------+----------+\n",
      "|monthnum|      date|percentage|\n",
      "+--------+----------+----------+\n",
      "|       1|2020-01-01|      NULL|\n",
      "|       1|2020-01-02|       0.5|\n",
      "|       1|2020-01-03|      NULL|\n",
      "|       1|2020-01-04|      NULL|\n",
      "|       1|2020-01-05|      NULL|\n",
      "+--------+----------+----------+\n",
      "only showing top 5 rows\n",
      "\n",
      "+-------------+---------+-------------+-----------+----------+------------+-------------+\n",
      "|constellation|bestmonth|latitudestart|latitudeend|hemisphere|bestmonthnum|hemispherenum|\n",
      "+-------------+---------+-------------+-----------+----------+------------+-------------+\n",
      "|         Lyra|   august|           90|        -40|  northern|           8|            0|\n",
      "|     Aquarius|  october|           65|        -90|  southern|          10|            1|\n",
      "|        Orion|  january|           85|        -75|  northern|           1|            0|\n",
      "|      Perseus| december|           90|        -35|  northern|          12|            0|\n",
      "|          Leo|    april|           90|         65|  northern|           4|            0|\n",
      "+-------------+---------+-------------+-----------+----------+------------+-------------+\n",
      "\n"
     ]
    }
   ],
   "source": [
    "# Remove unnecessary data\n",
    "dfmeteor_showers = dfmeteor_showers.drop(\"startmonth\", \"startday\", \"endmonth\", \"endday\", \"hemisphere\")\n",
    "dfmoon_phases = dfmoon_phases.drop(\"month\",\"day\",\"moonphase\",\"specialevent\")\n",
    "dfconstellations = dfconstellations.drop(\"besttime\")\n",
    "\n",
    "dfmeteor_showers.show(5)\n",
    "dfmoon_phases.show(5)\n",
    "dfconstellations.show(5)"
   ]
  },
  {
   "cell_type": "code",
   "execution_count": 734,
   "metadata": {},
   "outputs": [
    {
     "name": "stdout",
     "output_type": "stream",
     "text": [
      "root\n",
      " |-- percentage: double (nullable = true)\n",
      " |-- date: date (nullable = false)\n",
      " |-- DateID: integer (nullable = true)\n",
      " |-- monthnum: integer (nullable = false)\n",
      "\n"
     ]
    },
    {
     "name": "stdout",
     "output_type": "stream",
     "text": [
      "+----------+----------+--------+--------+\n",
      "|percentage|      date|  DateID|monthnum|\n",
      "+----------+----------+--------+--------+\n",
      "|       0.0|2020-01-01|20200101|       1|\n",
      "|       0.5|2020-01-02|20200102|       1|\n",
      "|       0.5|2020-01-03|20200103|       1|\n",
      "|       0.5|2020-01-04|20200104|       1|\n",
      "|       0.5|2020-01-05|20200105|       1|\n",
      "|       0.5|2020-01-06|20200106|       1|\n",
      "|       0.5|2020-01-07|20200107|       1|\n",
      "|       0.5|2020-01-08|20200108|       1|\n",
      "|       0.5|2020-01-09|20200109|       1|\n",
      "|       1.0|2020-01-10|20200110|       1|\n",
      "|       1.0|2020-01-11|20200111|       1|\n",
      "|       1.0|2020-01-12|20200112|       1|\n",
      "|       1.0|2020-01-13|20200113|       1|\n",
      "|       1.0|2020-01-14|20200114|       1|\n",
      "|       1.0|2020-01-15|20200115|       1|\n",
      "|       1.0|2020-01-16|20200116|       1|\n",
      "|       0.5|2020-02-01|20200201|       2|\n",
      "|       0.5|2020-02-02|20200202|       2|\n",
      "|       0.5|2020-02-03|20200203|       2|\n",
      "|       0.5|2020-02-04|20200204|       2|\n",
      "+----------+----------+--------+--------+\n",
      "only showing top 20 rows\n",
      "\n"
     ]
    }
   ],
   "source": [
    "# Figuring out a more accurate percentage for moon_phases:\n",
    "\n",
    "# 1.Create a variable to save the last phase that you saw.\n",
    "# 2.Loop through each row and column in the moon_phases DataFrame.\n",
    "# 3.If the value in the percentage column of a row is NaN (null), then replace it with the last phase that you saw.\n",
    "# 4.If the value isn't NaN, then save the value as the last phase that you saw.\n",
    "\n",
    "\n",
    "#dfmoon_phases.show(5)\n",
    "\n",
    "# Generate ID integer key column from date\n",
    "dfmoon_phases = dfmoon_phases.withColumn(\"id\",2020*10000+month(\"date\")*100+dayofmonth(\"date\")) \n",
    "\n",
    "dfmoon_phases.createOrReplaceTempView(\"stage_moon_phases\")\n",
    "dfmoon_phases = spark.sql( \\\n",
    "    \" With univ as ( \\\n",
    "    select \\\n",
    "        id as id_Aux, \\\n",
    "        LAG(id, 1,0) OVER (ORDER BY id) AS id_From, \\\n",
    "        (id - 1) as id_TO, \\\n",
    "        LAG(percentage, 1,0) OVER (ORDER BY id) AS PreviousPct \\\n",
    "    from stage_moon_phases \\\n",
    "    where ifnull(percentage,-1) > 0 \\\n",
    "    and  1=1) \\\n",
    "    Select \\\n",
    "        id_Aux, \\\n",
    "        CASE \\\n",
    "            WHEN id_From = 0 then to_date(id_TO,'yyyyMMdd') \\\n",
    "            ELSE to_date(id_From,'yyyyMMdd') \\\n",
    "        END as id_From, \\\n",
    "        to_date(id_TO,'yyyyMMdd') as id_TO, \\\n",
    "        PreviousPct as percentage \\\n",
    "    from univ\" \\\n",
    "     )\n",
    "\n",
    "#dfmoon_phases.show(5)\n",
    "\n",
    "dfmoon_phases = dfmoon_phases.withColumn('yr_seq', expr(\"sequence(id_From, id_TO, interval 1 day)\")) \\\n",
    "    .withColumn(\"date\",expr(\"explode(yr_seq)\")) \\\n",
    "    .withColumn(\"DateID\",date_format(col(\"date\"),\"yyyyMMdd\").cast(IntegerType())) \\\n",
    "    .withColumn(\"monthnum\",month(col(\"date\"))) \\\n",
    "    .orderBy(\"DateID\") \\\n",
    "    .drop(\"yr_seq\",\"id_Aux\",\"id_From\",\"id_TO\")\n",
    "\n",
    "dfmoon_phases.printSchema()\n",
    "dfmoon_phases.show()\n"
   ]
  },
  {
   "cell_type": "markdown",
   "metadata": {},
   "source": [
    " ## Load Tranformed data to Silver Layer"
   ]
  },
  {
   "cell_type": "code",
   "execution_count": 735,
   "metadata": {},
   "outputs": [],
   "source": [
    "# Write to (managed) tables on dbMeteorShowers database\n",
    "\n",
    "dfmoon_phases.write.mode(\"Overwrite\")\\\n",
    "    .saveAsTable(\"dbsMeteorShowers.MoonPhases\")\n"
   ]
  },
  {
   "cell_type": "markdown",
   "metadata": {},
   "source": [
    "### Explore Silver layer information"
   ]
  },
  {
   "cell_type": "code",
   "execution_count": 736,
   "metadata": {
    "vscode": {
     "languageId": "sql"
    }
   },
   "outputs": [
    {
     "data": {
      "text/html": [
       "<table><tr style=\"border-bottom: 1px solid\"><td style=\"font-weight: bold\">percentage</td><td style=\"font-weight: bold\">date</td><td style=\"font-weight: bold\">DateID</td><td style=\"font-weight: bold\">monthnum</td></tr><tr><td>1.0</td><td>2020-01-16</td><td>20200116</td><td>1</td></tr><tr><td>0.5</td><td>2020-02-01</td><td>20200201</td><td>2</td></tr><tr><td>0.5</td><td>2020-02-02</td><td>20200202</td><td>2</td></tr><tr><td>0.5</td><td>2020-02-03</td><td>20200203</td><td>2</td></tr><tr><td>0.5</td><td>2020-02-04</td><td>20200204</td><td>2</td></tr><tr><td>0.5</td><td>2020-02-05</td><td>20200205</td><td>2</td></tr><tr><td>0.5</td><td>2020-02-06</td><td>20200206</td><td>2</td></tr><tr><td>0.5</td><td>2020-02-07</td><td>20200207</td><td>2</td></tr><tr><td>1.0</td><td>2020-02-08</td><td>20200208</td><td>2</td></tr><tr><td>1.0</td><td>2020-02-09</td><td>20200209</td><td>2</td></tr><tr><td>1.0</td><td>2020-02-10</td><td>20200210</td><td>2</td></tr><tr><td>1.0</td><td>2020-02-11</td><td>20200211</td><td>2</td></tr><tr><td>1.0</td><td>2020-02-12</td><td>20200212</td><td>2</td></tr><tr><td>1.0</td><td>2020-02-13</td><td>20200213</td><td>2</td></tr><tr><td>1.0</td><td>2020-02-14</td><td>20200214</td><td>2</td></tr><tr><td>0.5</td><td>2020-02-15</td><td>20200215</td><td>2</td></tr><tr><td>0.5</td><td>2020-02-16</td><td>20200216</td><td>2</td></tr><tr><td>0.5</td><td>2020-02-17</td><td>20200217</td><td>2</td></tr><tr><td>0.5</td><td>2020-02-18</td><td>20200218</td><td>2</td></tr><tr><td>0.5</td><td>2020-02-19</td><td>20200219</td><td>2</td></tr></table>"
      ],
      "text/plain": [
       "<IPython.core.display.HTML object>"
      ]
     },
     "execution_count": 736,
     "metadata": {},
     "output_type": "execute_result"
    }
   ],
   "source": [
    "%%sparksql\n",
    "\n",
    "-- Explore Bronze layer information\n",
    "\n",
    "select * \n",
    "from dbsMeteorShowers.MoonPhases\n",
    "where DateID >= 20200116\n",
    "LIMIT 20\n",
    ";\n"
   ]
  },
  {
   "cell_type": "markdown",
   "metadata": {},
   "source": [
    "# Exercise - Write a predictor function - Part 1"
   ]
  },
  {
   "cell_type": "markdown",
   "metadata": {},
   "source": [
    "### Review our four datasets"
   ]
  },
  {
   "cell_type": "code",
   "execution_count": 738,
   "metadata": {
    "vscode": {
     "languageId": "sql"
    }
   },
   "outputs": [
    {
     "name": "stdout",
     "output_type": "stream",
     "text": [
      "root\n",
      " |-- name: string (nullable = true)\n",
      " |-- radiant: string (nullable = true)\n",
      " |-- bestmonth: string (nullable = true)\n",
      " |-- preferredhemisphere: string (nullable = true)\n",
      " |-- bestmonthnum: integer (nullable = true)\n",
      " |-- startmonthnum: integer (nullable = true)\n",
      " |-- endmonthnum: integer (nullable = true)\n",
      " |-- startdate: date (nullable = true)\n",
      " |-- enddate: date (nullable = true)\n",
      " |-- hemispherenum: integer (nullable = true)\n",
      "\n"
     ]
    }
   ],
   "source": [
    "dfmeteor_showers.printSchema()"
   ]
  },
  {
   "cell_type": "code",
   "execution_count": 739,
   "metadata": {
    "vscode": {
     "languageId": "sql"
    }
   },
   "outputs": [
    {
     "name": "stdout",
     "output_type": "stream",
     "text": [
      "root\n",
      " |-- percentage: double (nullable = true)\n",
      " |-- date: date (nullable = false)\n",
      " |-- DateID: integer (nullable = true)\n",
      " |-- monthnum: integer (nullable = false)\n",
      "\n"
     ]
    }
   ],
   "source": [
    "dfmoon_phases.printSchema()"
   ]
  },
  {
   "cell_type": "code",
   "execution_count": 741,
   "metadata": {
    "vscode": {
     "languageId": "sql"
    }
   },
   "outputs": [
    {
     "name": "stdout",
     "output_type": "stream",
     "text": [
      "root\n",
      " |-- city: string (nullable = true)\n",
      " |-- latitude: double (nullable = true)\n",
      " |-- country: string (nullable = true)\n",
      "\n"
     ]
    }
   ],
   "source": [
    "dfcities.printSchema()"
   ]
  },
  {
   "cell_type": "code",
   "execution_count": 742,
   "metadata": {
    "vscode": {
     "languageId": "sql"
    }
   },
   "outputs": [
    {
     "name": "stdout",
     "output_type": "stream",
     "text": [
      "root\n",
      " |-- constellation: string (nullable = true)\n",
      " |-- bestmonth: string (nullable = true)\n",
      " |-- latitudestart: integer (nullable = true)\n",
      " |-- latitudeend: integer (nullable = true)\n",
      " |-- hemisphere: string (nullable = true)\n",
      " |-- bestmonthnum: integer (nullable = true)\n",
      " |-- hemispherenum: integer (nullable = true)\n",
      "\n"
     ]
    }
   ],
   "source": [
    "dfconstellations.printSchema()"
   ]
  },
  {
   "cell_type": "markdown",
   "metadata": {},
   "source": [
    "## Determine the latitude"
   ]
  },
  {
   "cell_type": "code",
   "execution_count": 753,
   "metadata": {},
   "outputs": [],
   "source": [
    "# Create a function called predict_best_meteor_shower_viewing that takes in a city as a parameter:\n",
    "\n",
    "def predict_best_meteor_shower_viewing(city):\n",
    "    # Get the latitude of the city from the cities DataFrame\n",
    "    latitude = dfcities.select(\"latitude\").where(col(\"city\") == city).collect()[0][0]\n",
    "\n",
    "    return latitude\n"
   ]
  },
  {
   "cell_type": "code",
   "execution_count": 754,
   "metadata": {},
   "outputs": [
    {
     "name": "stdout",
     "output_type": "stream",
     "text": [
      "24.47\n"
     ]
    }
   ],
   "source": [
    "# Call the function\n",
    "\n",
    "print(predict_best_meteor_shower_viewing('Abu Dhabi'))"
   ]
  }
 ],
 "metadata": {
  "kernelspec": {
   "display_name": "Python 3",
   "language": "python",
   "name": "python3"
  },
  "language_info": {
   "codemirror_mode": {
    "name": "ipython",
    "version": 3
   },
   "file_extension": ".py",
   "mimetype": "text/x-python",
   "name": "python",
   "nbconvert_exporter": "python",
   "pygments_lexer": "ipython3",
   "version": "3.11.7"
  }
 },
 "nbformat": 4,
 "nbformat_minor": 2
}
